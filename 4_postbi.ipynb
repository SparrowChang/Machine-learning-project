{
 "cells": [
  {
   "cell_type": "code",
   "execution_count": 1,
   "metadata": {},
   "outputs": [],
   "source": [
    "import numpy as np"
   ]
  },
  {
   "cell_type": "code",
   "execution_count": 2,
   "metadata": {},
   "outputs": [],
   "source": [
    "import pandas as pd"
   ]
  },
  {
   "cell_type": "code",
   "execution_count": 3,
   "metadata": {},
   "outputs": [],
   "source": [
    "import matplotlib.pyplot as plt"
   ]
  },
  {
   "cell_type": "code",
   "execution_count": 4,
   "metadata": {},
   "outputs": [],
   "source": [
    "data4 = pd.read_csv('postbi.csv')"
   ]
  },
  {
   "cell_type": "code",
   "execution_count": 5,
   "metadata": {},
   "outputs": [
    {
     "data": {
      "text/html": [
       "<div>\n",
       "<style scoped>\n",
       "    .dataframe tbody tr th:only-of-type {\n",
       "        vertical-align: middle;\n",
       "    }\n",
       "\n",
       "    .dataframe tbody tr th {\n",
       "        vertical-align: top;\n",
       "    }\n",
       "\n",
       "    .dataframe thead th {\n",
       "        text-align: right;\n",
       "    }\n",
       "</style>\n",
       "<table border=\"1\" class=\"dataframe\">\n",
       "  <thead>\n",
       "    <tr style=\"text-align: right;\">\n",
       "      <th></th>\n",
       "      <th>WaferID</th>\n",
       "      <th>X</th>\n",
       "      <th>Y</th>\n",
       "      <th>BI_TEST_13</th>\n",
       "      <th>BI_TEST_14</th>\n",
       "      <th>BI_TEST_15</th>\n",
       "      <th>BI_TEST_16</th>\n",
       "      <th>BI_TEST_17</th>\n",
       "      <th>BI_TEST_18</th>\n",
       "      <th>BI_TEST_19</th>\n",
       "      <th>...</th>\n",
       "      <th>BI_TEST_143</th>\n",
       "      <th>BI_TEST_144</th>\n",
       "      <th>BI_TEST_145</th>\n",
       "      <th>BI_TEST_146</th>\n",
       "      <th>BI_TEST_147</th>\n",
       "      <th>BI_TEST_148</th>\n",
       "      <th>BI_TEST_149</th>\n",
       "      <th>BI_TEST_150</th>\n",
       "      <th>BI_TEST_151</th>\n",
       "      <th>BI_TEST_153</th>\n",
       "    </tr>\n",
       "  </thead>\n",
       "  <tbody>\n",
       "    <tr>\n",
       "      <td>0</td>\n",
       "      <td>WAFER_09</td>\n",
       "      <td>-7</td>\n",
       "      <td>-14</td>\n",
       "      <td>4.759526</td>\n",
       "      <td>9.506802</td>\n",
       "      <td>-0.287786</td>\n",
       "      <td>-0.287786</td>\n",
       "      <td>-0.287802</td>\n",
       "      <td>-0.287345</td>\n",
       "      <td>0.329970</td>\n",
       "      <td>...</td>\n",
       "      <td>24.100120</td>\n",
       "      <td>24.094517</td>\n",
       "      <td>24.055171</td>\n",
       "      <td>23.954150</td>\n",
       "      <td>24.044159</td>\n",
       "      <td>-0.153523</td>\n",
       "      <td>61.373059</td>\n",
       "      <td>0.677141</td>\n",
       "      <td>0.226998</td>\n",
       "      <td>6648</td>\n",
       "    </tr>\n",
       "    <tr>\n",
       "      <td>1</td>\n",
       "      <td>WAFER_09</td>\n",
       "      <td>-6</td>\n",
       "      <td>-13</td>\n",
       "      <td>5.098066</td>\n",
       "      <td>3.750021</td>\n",
       "      <td>-0.287221</td>\n",
       "      <td>-0.287546</td>\n",
       "      <td>-0.286966</td>\n",
       "      <td>-0.287368</td>\n",
       "      <td>0.321839</td>\n",
       "      <td>...</td>\n",
       "      <td>23.963850</td>\n",
       "      <td>24.005289</td>\n",
       "      <td>23.963554</td>\n",
       "      <td>24.022685</td>\n",
       "      <td>23.948707</td>\n",
       "      <td>-0.181862</td>\n",
       "      <td>64.421707</td>\n",
       "      <td>0.673516</td>\n",
       "      <td>0.226998</td>\n",
       "      <td>6648</td>\n",
       "    </tr>\n",
       "    <tr>\n",
       "      <td>2</td>\n",
       "      <td>WAFER_09</td>\n",
       "      <td>-7</td>\n",
       "      <td>-13</td>\n",
       "      <td>7.338584</td>\n",
       "      <td>4.324743</td>\n",
       "      <td>-0.287353</td>\n",
       "      <td>-0.287477</td>\n",
       "      <td>-0.287221</td>\n",
       "      <td>-0.287353</td>\n",
       "      <td>0.332627</td>\n",
       "      <td>...</td>\n",
       "      <td>24.169241</td>\n",
       "      <td>24.098063</td>\n",
       "      <td>24.236298</td>\n",
       "      <td>24.199602</td>\n",
       "      <td>23.993714</td>\n",
       "      <td>-0.182965</td>\n",
       "      <td>62.229716</td>\n",
       "      <td>0.673865</td>\n",
       "      <td>0.226998</td>\n",
       "      <td>6648</td>\n",
       "    </tr>\n",
       "    <tr>\n",
       "      <td>3</td>\n",
       "      <td>WAFER_09</td>\n",
       "      <td>-5</td>\n",
       "      <td>-12</td>\n",
       "      <td>3.537521</td>\n",
       "      <td>2.906039</td>\n",
       "      <td>-0.282536</td>\n",
       "      <td>-0.283845</td>\n",
       "      <td>-0.284309</td>\n",
       "      <td>-0.282830</td>\n",
       "      <td>0.322532</td>\n",
       "      <td>...</td>\n",
       "      <td>24.321662</td>\n",
       "      <td>24.330984</td>\n",
       "      <td>24.326673</td>\n",
       "      <td>24.331310</td>\n",
       "      <td>24.359359</td>\n",
       "      <td>-0.160060</td>\n",
       "      <td>64.907283</td>\n",
       "      <td>0.669903</td>\n",
       "      <td>0.226998</td>\n",
       "      <td>6648</td>\n",
       "    </tr>\n",
       "    <tr>\n",
       "      <td>4</td>\n",
       "      <td>WAFER_09</td>\n",
       "      <td>-6</td>\n",
       "      <td>-12</td>\n",
       "      <td>7.154187</td>\n",
       "      <td>2.401062</td>\n",
       "      <td>-0.284367</td>\n",
       "      <td>-0.284815</td>\n",
       "      <td>-0.284638</td>\n",
       "      <td>-0.284367</td>\n",
       "      <td>0.321424</td>\n",
       "      <td>...</td>\n",
       "      <td>24.364341</td>\n",
       "      <td>24.455456</td>\n",
       "      <td>24.416215</td>\n",
       "      <td>24.350837</td>\n",
       "      <td>24.388124</td>\n",
       "      <td>-0.166299</td>\n",
       "      <td>62.572602</td>\n",
       "      <td>0.669487</td>\n",
       "      <td>0.226998</td>\n",
       "      <td>6648</td>\n",
       "    </tr>\n",
       "    <tr>\n",
       "      <td>...</td>\n",
       "      <td>...</td>\n",
       "      <td>...</td>\n",
       "      <td>...</td>\n",
       "      <td>...</td>\n",
       "      <td>...</td>\n",
       "      <td>...</td>\n",
       "      <td>...</td>\n",
       "      <td>...</td>\n",
       "      <td>...</td>\n",
       "      <td>...</td>\n",
       "      <td>...</td>\n",
       "      <td>...</td>\n",
       "      <td>...</td>\n",
       "      <td>...</td>\n",
       "      <td>...</td>\n",
       "      <td>...</td>\n",
       "      <td>...</td>\n",
       "      <td>...</td>\n",
       "      <td>...</td>\n",
       "      <td>...</td>\n",
       "      <td>...</td>\n",
       "    </tr>\n",
       "    <tr>\n",
       "      <td>528</td>\n",
       "      <td>WAFER_11</td>\n",
       "      <td>-15</td>\n",
       "      <td>44</td>\n",
       "      <td>4.511673</td>\n",
       "      <td>3.794463</td>\n",
       "      <td>-0.286748</td>\n",
       "      <td>-0.287012</td>\n",
       "      <td>-0.287159</td>\n",
       "      <td>-0.286601</td>\n",
       "      <td>0.315654</td>\n",
       "      <td>...</td>\n",
       "      <td>24.375759</td>\n",
       "      <td>24.368606</td>\n",
       "      <td>24.315725</td>\n",
       "      <td>24.347875</td>\n",
       "      <td>24.429877</td>\n",
       "      <td>-0.193091</td>\n",
       "      <td>60.866609</td>\n",
       "      <td>0.680799</td>\n",
       "      <td>0.260274</td>\n",
       "      <td>7902</td>\n",
       "    </tr>\n",
       "    <tr>\n",
       "      <td>529</td>\n",
       "      <td>WAFER_11</td>\n",
       "      <td>-12</td>\n",
       "      <td>45</td>\n",
       "      <td>3.571282</td>\n",
       "      <td>1.954097</td>\n",
       "      <td>-0.288034</td>\n",
       "      <td>-0.286749</td>\n",
       "      <td>-0.287214</td>\n",
       "      <td>-0.287005</td>\n",
       "      <td>0.318250</td>\n",
       "      <td>...</td>\n",
       "      <td>24.385836</td>\n",
       "      <td>24.323515</td>\n",
       "      <td>24.394647</td>\n",
       "      <td>24.392339</td>\n",
       "      <td>24.362649</td>\n",
       "      <td>-0.173821</td>\n",
       "      <td>59.282313</td>\n",
       "      <td>0.676689</td>\n",
       "      <td>0.260274</td>\n",
       "      <td>7902</td>\n",
       "    </tr>\n",
       "    <tr>\n",
       "      <td>530</td>\n",
       "      <td>WAFER_11</td>\n",
       "      <td>-13</td>\n",
       "      <td>45</td>\n",
       "      <td>3.592175</td>\n",
       "      <td>2.206796</td>\n",
       "      <td>-0.285549</td>\n",
       "      <td>-0.285394</td>\n",
       "      <td>-0.285696</td>\n",
       "      <td>-0.285402</td>\n",
       "      <td>0.318175</td>\n",
       "      <td>...</td>\n",
       "      <td>24.394794</td>\n",
       "      <td>24.433639</td>\n",
       "      <td>24.375655</td>\n",
       "      <td>24.363155</td>\n",
       "      <td>24.410390</td>\n",
       "      <td>-0.171763</td>\n",
       "      <td>57.594298</td>\n",
       "      <td>0.678446</td>\n",
       "      <td>0.260274</td>\n",
       "      <td>7902</td>\n",
       "    </tr>\n",
       "    <tr>\n",
       "      <td>531</td>\n",
       "      <td>WAFER_11</td>\n",
       "      <td>-14</td>\n",
       "      <td>45</td>\n",
       "      <td>4.042486</td>\n",
       "      <td>3.325866</td>\n",
       "      <td>-0.285519</td>\n",
       "      <td>-0.285674</td>\n",
       "      <td>-0.285395</td>\n",
       "      <td>-0.285813</td>\n",
       "      <td>0.317956</td>\n",
       "      <td>...</td>\n",
       "      <td>24.350886</td>\n",
       "      <td>24.433424</td>\n",
       "      <td>24.341913</td>\n",
       "      <td>24.252138</td>\n",
       "      <td>24.371551</td>\n",
       "      <td>-0.184766</td>\n",
       "      <td>54.334931</td>\n",
       "      <td>0.671966</td>\n",
       "      <td>0.260274</td>\n",
       "      <td>7902</td>\n",
       "    </tr>\n",
       "    <tr>\n",
       "      <td>532</td>\n",
       "      <td>WAFER_11</td>\n",
       "      <td>-15</td>\n",
       "      <td>45</td>\n",
       "      <td>9.254661</td>\n",
       "      <td>2.972525</td>\n",
       "      <td>-0.287755</td>\n",
       "      <td>-0.287446</td>\n",
       "      <td>-0.286586</td>\n",
       "      <td>-0.287461</td>\n",
       "      <td>0.316223</td>\n",
       "      <td>...</td>\n",
       "      <td>24.270692</td>\n",
       "      <td>24.241095</td>\n",
       "      <td>24.218583</td>\n",
       "      <td>24.295057</td>\n",
       "      <td>24.230561</td>\n",
       "      <td>-0.184741</td>\n",
       "      <td>59.113212</td>\n",
       "      <td>0.678127</td>\n",
       "      <td>0.260274</td>\n",
       "      <td>7902</td>\n",
       "    </tr>\n",
       "  </tbody>\n",
       "</table>\n",
       "<p>533 rows × 124 columns</p>\n",
       "</div>"
      ],
      "text/plain": [
       "      WaferID   X   Y  BI_TEST_13  BI_TEST_14  BI_TEST_15  BI_TEST_16  \\\n",
       "0    WAFER_09  -7 -14    4.759526    9.506802   -0.287786   -0.287786   \n",
       "1    WAFER_09  -6 -13    5.098066    3.750021   -0.287221   -0.287546   \n",
       "2    WAFER_09  -7 -13    7.338584    4.324743   -0.287353   -0.287477   \n",
       "3    WAFER_09  -5 -12    3.537521    2.906039   -0.282536   -0.283845   \n",
       "4    WAFER_09  -6 -12    7.154187    2.401062   -0.284367   -0.284815   \n",
       "..        ...  ..  ..         ...         ...         ...         ...   \n",
       "528  WAFER_11 -15  44    4.511673    3.794463   -0.286748   -0.287012   \n",
       "529  WAFER_11 -12  45    3.571282    1.954097   -0.288034   -0.286749   \n",
       "530  WAFER_11 -13  45    3.592175    2.206796   -0.285549   -0.285394   \n",
       "531  WAFER_11 -14  45    4.042486    3.325866   -0.285519   -0.285674   \n",
       "532  WAFER_11 -15  45    9.254661    2.972525   -0.287755   -0.287446   \n",
       "\n",
       "     BI_TEST_17  BI_TEST_18  BI_TEST_19  ...  BI_TEST_143  BI_TEST_144  \\\n",
       "0     -0.287802   -0.287345    0.329970  ...    24.100120    24.094517   \n",
       "1     -0.286966   -0.287368    0.321839  ...    23.963850    24.005289   \n",
       "2     -0.287221   -0.287353    0.332627  ...    24.169241    24.098063   \n",
       "3     -0.284309   -0.282830    0.322532  ...    24.321662    24.330984   \n",
       "4     -0.284638   -0.284367    0.321424  ...    24.364341    24.455456   \n",
       "..          ...         ...         ...  ...          ...          ...   \n",
       "528   -0.287159   -0.286601    0.315654  ...    24.375759    24.368606   \n",
       "529   -0.287214   -0.287005    0.318250  ...    24.385836    24.323515   \n",
       "530   -0.285696   -0.285402    0.318175  ...    24.394794    24.433639   \n",
       "531   -0.285395   -0.285813    0.317956  ...    24.350886    24.433424   \n",
       "532   -0.286586   -0.287461    0.316223  ...    24.270692    24.241095   \n",
       "\n",
       "     BI_TEST_145  BI_TEST_146  BI_TEST_147  BI_TEST_148  BI_TEST_149  \\\n",
       "0      24.055171    23.954150    24.044159    -0.153523    61.373059   \n",
       "1      23.963554    24.022685    23.948707    -0.181862    64.421707   \n",
       "2      24.236298    24.199602    23.993714    -0.182965    62.229716   \n",
       "3      24.326673    24.331310    24.359359    -0.160060    64.907283   \n",
       "4      24.416215    24.350837    24.388124    -0.166299    62.572602   \n",
       "..           ...          ...          ...          ...          ...   \n",
       "528    24.315725    24.347875    24.429877    -0.193091    60.866609   \n",
       "529    24.394647    24.392339    24.362649    -0.173821    59.282313   \n",
       "530    24.375655    24.363155    24.410390    -0.171763    57.594298   \n",
       "531    24.341913    24.252138    24.371551    -0.184766    54.334931   \n",
       "532    24.218583    24.295057    24.230561    -0.184741    59.113212   \n",
       "\n",
       "     BI_TEST_150  BI_TEST_151  BI_TEST_153  \n",
       "0       0.677141     0.226998         6648  \n",
       "1       0.673516     0.226998         6648  \n",
       "2       0.673865     0.226998         6648  \n",
       "3       0.669903     0.226998         6648  \n",
       "4       0.669487     0.226998         6648  \n",
       "..           ...          ...          ...  \n",
       "528     0.680799     0.260274         7902  \n",
       "529     0.676689     0.260274         7902  \n",
       "530     0.678446     0.260274         7902  \n",
       "531     0.671966     0.260274         7902  \n",
       "532     0.678127     0.260274         7902  \n",
       "\n",
       "[533 rows x 124 columns]"
      ]
     },
     "execution_count": 5,
     "metadata": {},
     "output_type": "execute_result"
    }
   ],
   "source": [
    "data4"
   ]
  },
  {
   "cell_type": "code",
   "execution_count": 6,
   "metadata": {},
   "outputs": [
    {
     "data": {
      "text/plain": [
       "(533, 124)"
      ]
     },
     "execution_count": 6,
     "metadata": {},
     "output_type": "execute_result"
    }
   ],
   "source": [
    "data4.shape"
   ]
  },
  {
   "cell_type": "code",
   "execution_count": 7,
   "metadata": {},
   "outputs": [
    {
     "data": {
      "text/html": [
       "<div>\n",
       "<style scoped>\n",
       "    .dataframe tbody tr th:only-of-type {\n",
       "        vertical-align: middle;\n",
       "    }\n",
       "\n",
       "    .dataframe tbody tr th {\n",
       "        vertical-align: top;\n",
       "    }\n",
       "\n",
       "    .dataframe thead th {\n",
       "        text-align: right;\n",
       "    }\n",
       "</style>\n",
       "<table border=\"1\" class=\"dataframe\">\n",
       "  <thead>\n",
       "    <tr style=\"text-align: right;\">\n",
       "      <th></th>\n",
       "      <th>WaferID</th>\n",
       "      <th>X</th>\n",
       "      <th>Y</th>\n",
       "      <th>BI_TEST_13</th>\n",
       "      <th>BI_TEST_14</th>\n",
       "      <th>BI_TEST_15</th>\n",
       "      <th>BI_TEST_16</th>\n",
       "      <th>BI_TEST_17</th>\n",
       "      <th>BI_TEST_18</th>\n",
       "      <th>BI_TEST_19</th>\n",
       "      <th>...</th>\n",
       "      <th>BI_TEST_143</th>\n",
       "      <th>BI_TEST_144</th>\n",
       "      <th>BI_TEST_145</th>\n",
       "      <th>BI_TEST_146</th>\n",
       "      <th>BI_TEST_147</th>\n",
       "      <th>BI_TEST_148</th>\n",
       "      <th>BI_TEST_149</th>\n",
       "      <th>BI_TEST_150</th>\n",
       "      <th>BI_TEST_151</th>\n",
       "      <th>BI_TEST_153</th>\n",
       "    </tr>\n",
       "  </thead>\n",
       "  <tbody>\n",
       "    <tr>\n",
       "      <td>528</td>\n",
       "      <td>WAFER_11</td>\n",
       "      <td>-15</td>\n",
       "      <td>44</td>\n",
       "      <td>4.511673</td>\n",
       "      <td>3.794463</td>\n",
       "      <td>-0.286748</td>\n",
       "      <td>-0.287012</td>\n",
       "      <td>-0.287159</td>\n",
       "      <td>-0.286601</td>\n",
       "      <td>0.315654</td>\n",
       "      <td>...</td>\n",
       "      <td>24.375759</td>\n",
       "      <td>24.368606</td>\n",
       "      <td>24.315725</td>\n",
       "      <td>24.347875</td>\n",
       "      <td>24.429877</td>\n",
       "      <td>-0.193091</td>\n",
       "      <td>60.866609</td>\n",
       "      <td>0.680799</td>\n",
       "      <td>0.260274</td>\n",
       "      <td>7902</td>\n",
       "    </tr>\n",
       "    <tr>\n",
       "      <td>529</td>\n",
       "      <td>WAFER_11</td>\n",
       "      <td>-12</td>\n",
       "      <td>45</td>\n",
       "      <td>3.571282</td>\n",
       "      <td>1.954097</td>\n",
       "      <td>-0.288034</td>\n",
       "      <td>-0.286749</td>\n",
       "      <td>-0.287214</td>\n",
       "      <td>-0.287005</td>\n",
       "      <td>0.318250</td>\n",
       "      <td>...</td>\n",
       "      <td>24.385836</td>\n",
       "      <td>24.323515</td>\n",
       "      <td>24.394647</td>\n",
       "      <td>24.392339</td>\n",
       "      <td>24.362649</td>\n",
       "      <td>-0.173821</td>\n",
       "      <td>59.282313</td>\n",
       "      <td>0.676689</td>\n",
       "      <td>0.260274</td>\n",
       "      <td>7902</td>\n",
       "    </tr>\n",
       "    <tr>\n",
       "      <td>530</td>\n",
       "      <td>WAFER_11</td>\n",
       "      <td>-13</td>\n",
       "      <td>45</td>\n",
       "      <td>3.592175</td>\n",
       "      <td>2.206796</td>\n",
       "      <td>-0.285549</td>\n",
       "      <td>-0.285394</td>\n",
       "      <td>-0.285696</td>\n",
       "      <td>-0.285402</td>\n",
       "      <td>0.318175</td>\n",
       "      <td>...</td>\n",
       "      <td>24.394794</td>\n",
       "      <td>24.433639</td>\n",
       "      <td>24.375655</td>\n",
       "      <td>24.363155</td>\n",
       "      <td>24.410390</td>\n",
       "      <td>-0.171763</td>\n",
       "      <td>57.594298</td>\n",
       "      <td>0.678446</td>\n",
       "      <td>0.260274</td>\n",
       "      <td>7902</td>\n",
       "    </tr>\n",
       "    <tr>\n",
       "      <td>531</td>\n",
       "      <td>WAFER_11</td>\n",
       "      <td>-14</td>\n",
       "      <td>45</td>\n",
       "      <td>4.042486</td>\n",
       "      <td>3.325866</td>\n",
       "      <td>-0.285519</td>\n",
       "      <td>-0.285674</td>\n",
       "      <td>-0.285395</td>\n",
       "      <td>-0.285813</td>\n",
       "      <td>0.317956</td>\n",
       "      <td>...</td>\n",
       "      <td>24.350886</td>\n",
       "      <td>24.433424</td>\n",
       "      <td>24.341913</td>\n",
       "      <td>24.252138</td>\n",
       "      <td>24.371551</td>\n",
       "      <td>-0.184766</td>\n",
       "      <td>54.334931</td>\n",
       "      <td>0.671966</td>\n",
       "      <td>0.260274</td>\n",
       "      <td>7902</td>\n",
       "    </tr>\n",
       "    <tr>\n",
       "      <td>532</td>\n",
       "      <td>WAFER_11</td>\n",
       "      <td>-15</td>\n",
       "      <td>45</td>\n",
       "      <td>9.254661</td>\n",
       "      <td>2.972525</td>\n",
       "      <td>-0.287755</td>\n",
       "      <td>-0.287446</td>\n",
       "      <td>-0.286586</td>\n",
       "      <td>-0.287461</td>\n",
       "      <td>0.316223</td>\n",
       "      <td>...</td>\n",
       "      <td>24.270692</td>\n",
       "      <td>24.241095</td>\n",
       "      <td>24.218583</td>\n",
       "      <td>24.295057</td>\n",
       "      <td>24.230561</td>\n",
       "      <td>-0.184741</td>\n",
       "      <td>59.113212</td>\n",
       "      <td>0.678127</td>\n",
       "      <td>0.260274</td>\n",
       "      <td>7902</td>\n",
       "    </tr>\n",
       "  </tbody>\n",
       "</table>\n",
       "<p>5 rows × 124 columns</p>\n",
       "</div>"
      ],
      "text/plain": [
       "      WaferID   X   Y  BI_TEST_13  BI_TEST_14  BI_TEST_15  BI_TEST_16  \\\n",
       "528  WAFER_11 -15  44    4.511673    3.794463   -0.286748   -0.287012   \n",
       "529  WAFER_11 -12  45    3.571282    1.954097   -0.288034   -0.286749   \n",
       "530  WAFER_11 -13  45    3.592175    2.206796   -0.285549   -0.285394   \n",
       "531  WAFER_11 -14  45    4.042486    3.325866   -0.285519   -0.285674   \n",
       "532  WAFER_11 -15  45    9.254661    2.972525   -0.287755   -0.287446   \n",
       "\n",
       "     BI_TEST_17  BI_TEST_18  BI_TEST_19  ...  BI_TEST_143  BI_TEST_144  \\\n",
       "528   -0.287159   -0.286601    0.315654  ...    24.375759    24.368606   \n",
       "529   -0.287214   -0.287005    0.318250  ...    24.385836    24.323515   \n",
       "530   -0.285696   -0.285402    0.318175  ...    24.394794    24.433639   \n",
       "531   -0.285395   -0.285813    0.317956  ...    24.350886    24.433424   \n",
       "532   -0.286586   -0.287461    0.316223  ...    24.270692    24.241095   \n",
       "\n",
       "     BI_TEST_145  BI_TEST_146  BI_TEST_147  BI_TEST_148  BI_TEST_149  \\\n",
       "528    24.315725    24.347875    24.429877    -0.193091    60.866609   \n",
       "529    24.394647    24.392339    24.362649    -0.173821    59.282313   \n",
       "530    24.375655    24.363155    24.410390    -0.171763    57.594298   \n",
       "531    24.341913    24.252138    24.371551    -0.184766    54.334931   \n",
       "532    24.218583    24.295057    24.230561    -0.184741    59.113212   \n",
       "\n",
       "     BI_TEST_150  BI_TEST_151  BI_TEST_153  \n",
       "528     0.680799     0.260274         7902  \n",
       "529     0.676689     0.260274         7902  \n",
       "530     0.678446     0.260274         7902  \n",
       "531     0.671966     0.260274         7902  \n",
       "532     0.678127     0.260274         7902  \n",
       "\n",
       "[5 rows x 124 columns]"
      ]
     },
     "execution_count": 7,
     "metadata": {},
     "output_type": "execute_result"
    }
   ],
   "source": [
    "data4.tail()"
   ]
  },
  {
   "cell_type": "code",
   "execution_count": 8,
   "metadata": {},
   "outputs": [
    {
     "data": {
      "text/plain": [
       "0      4.759526\n",
       "1      5.098066\n",
       "2      7.338584\n",
       "3      3.537521\n",
       "4      7.154187\n",
       "         ...   \n",
       "528    4.511673\n",
       "529    3.571282\n",
       "530    3.592175\n",
       "531    4.042486\n",
       "532    9.254661\n",
       "Name: BI_TEST_13, Length: 533, dtype: float64"
      ]
     },
     "execution_count": 8,
     "metadata": {},
     "output_type": "execute_result"
    }
   ],
   "source": [
    "BPT_1 = data4['BI_TEST_13']\n",
    "BPT_1"
   ]
  },
  {
   "cell_type": "code",
   "execution_count": 9,
   "metadata": {},
   "outputs": [
    {
     "name": "stdout",
     "output_type": "stream",
     "text": [
      "5.089680669455323\n",
      "2.0298509778894287\n",
      "3.230975389480589\n",
      "14.309624671936\n"
     ]
    }
   ],
   "source": [
    "#mean, stdev, min, max\n",
    "print(np.mean(BPT_1))\n",
    "print(np.std(BPT_1))\n",
    "print(np.min(BPT_1))\n",
    "print(np.max(BPT_1))"
   ]
  },
  {
   "cell_type": "code",
   "execution_count": 10,
   "metadata": {},
   "outputs": [
    {
     "name": "stdout",
     "output_type": "stream",
     "text": [
      "3.71531510353088\n",
      "5.626343250274661\n"
     ]
    }
   ],
   "source": [
    "#the 25th annd 75th percentile\n",
    "print(np.percentile(BPT_1, 25))\n",
    "print(np.percentile(BPT_1, 75))"
   ]
  },
  {
   "cell_type": "code",
   "execution_count": 11,
   "metadata": {},
   "outputs": [
    {
     "data": {
      "text/plain": [
       "Text(0, 0.5, 'number')"
      ]
     },
     "execution_count": 11,
     "metadata": {},
     "output_type": "execute_result"
    },
    {
     "data": {
      "image/png": "[encoded data removed]",
      "text/plain": [
       "<Figure size 432x288 with 1 Axes>"
      ]
     },
     "metadata": {
      "needs_background": "light"
     },
     "output_type": "display_data"
    }
   ],
   "source": [
    "plt.hist(BPT_1)\n",
    "plt.title('BPT_1 data')\n",
    "plt.xlabel('data')\n",
    "plt.ylabel('number')"
   ]
  },
  {
   "cell_type": "code",
   "execution_count": 12,
   "metadata": {},
   "outputs": [
    {
     "data": {
      "text/plain": [
       "RangeIndex(start=0, stop=533, step=1)"
      ]
     },
     "execution_count": 12,
     "metadata": {},
     "output_type": "execute_result"
    }
   ],
   "source": [
    "data4.index #wafer min(14)/max(26) measurement points, total 23 wafers (533 points)"
   ]
  },
  {
   "cell_type": "code",
   "execution_count": 13,
   "metadata": {},
   "outputs": [
    {
     "data": {
      "text/plain": [
       "Index(['WaferID', 'X', 'Y', 'BI_TEST_13', 'BI_TEST_14', 'BI_TEST_15',\n",
       "       'BI_TEST_16', 'BI_TEST_17', 'BI_TEST_18', 'BI_TEST_19',\n",
       "       ...\n",
       "       'BI_TEST_143', 'BI_TEST_144', 'BI_TEST_145', 'BI_TEST_146',\n",
       "       'BI_TEST_147', 'BI_TEST_148', 'BI_TEST_149', 'BI_TEST_150',\n",
       "       'BI_TEST_151', 'BI_TEST_153'],\n",
       "      dtype='object', length=124)"
      ]
     },
     "execution_count": 13,
     "metadata": {},
     "output_type": "execute_result"
    }
   ],
   "source": [
    "data4.columns #total 124 burn-in test items"
   ]
  },
  {
   "cell_type": "code",
   "execution_count": 14,
   "metadata": {},
   "outputs": [
    {
     "data": {
      "text/plain": [
       "533"
      ]
     },
     "execution_count": 14,
     "metadata": {},
     "output_type": "execute_result"
    }
   ],
   "source": [
    "data4['WaferID'].count()"
   ]
  },
  {
   "cell_type": "code",
   "execution_count": 15,
   "metadata": {},
   "outputs": [
    {
     "data": {
      "text/plain": [
       "0      WAFER_09\n",
       "1      WAFER_09\n",
       "2      WAFER_09\n",
       "3      WAFER_09\n",
       "4      WAFER_09\n",
       "         ...   \n",
       "528    WAFER_11\n",
       "529    WAFER_11\n",
       "530    WAFER_11\n",
       "531    WAFER_11\n",
       "532    WAFER_11\n",
       "Name: WaferID, Length: 533, dtype: object"
      ]
     },
     "execution_count": 15,
     "metadata": {},
     "output_type": "execute_result"
    }
   ],
   "source": [
    "data4['WaferID']"
   ]
  },
  {
   "cell_type": "code",
   "execution_count": 16,
   "metadata": {},
   "outputs": [
    {
     "data": {
      "text/plain": [
       "0"
      ]
     },
     "execution_count": 16,
     "metadata": {},
     "output_type": "execute_result"
    }
   ],
   "source": [
    "data4['BI_TEST_13'].isnull().sum()\n",
    "data4['BI_TEST_14'].isnull().sum()\n",
    "data4['BI_TEST_153'].isnull().sum()"
   ]
  },
  {
   "cell_type": "code",
   "execution_count": 17,
   "metadata": {},
   "outputs": [
    {
     "data": {
      "text/plain": [
       "WaferID        533\n",
       "X              533\n",
       "Y              533\n",
       "BI_TEST_13     533\n",
       "BI_TEST_14     533\n",
       "              ... \n",
       "BI_TEST_148    533\n",
       "BI_TEST_149    533\n",
       "BI_TEST_150    533\n",
       "BI_TEST_151    533\n",
       "BI_TEST_153    533\n",
       "Length: 124, dtype: int64"
      ]
     },
     "execution_count": 17,
     "metadata": {},
     "output_type": "execute_result"
    }
   ],
   "source": [
    "data4=data4.dropna()\n",
    "data4.count()"
   ]
  },
  {
   "cell_type": "code",
   "execution_count": 18,
   "metadata": {},
   "outputs": [
    {
     "data": {
      "text/plain": [
       "WaferID        0\n",
       "X              0\n",
       "Y              0\n",
       "BI_TEST_13     0\n",
       "BI_TEST_14     0\n",
       "              ..\n",
       "BI_TEST_148    0\n",
       "BI_TEST_149    0\n",
       "BI_TEST_150    0\n",
       "BI_TEST_151    0\n",
       "BI_TEST_153    0\n",
       "Length: 124, dtype: int64"
      ]
     },
     "execution_count": 18,
     "metadata": {},
     "output_type": "execute_result"
    }
   ],
   "source": [
    "data4.isnull().sum()"
   ]
  },
  {
   "cell_type": "code",
   "execution_count": 19,
   "metadata": {},
   "outputs": [
    {
     "name": "stdout",
     "output_type": "stream",
     "text": [
      "<class 'pandas.core.frame.DataFrame'>\n",
      "Int64Index: 533 entries, 0 to 532\n",
      "Columns: 124 entries, WaferID to BI_TEST_153\n",
      "dtypes: float64(120), int64(3), object(1)\n",
      "memory usage: 520.5+ KB\n"
     ]
    }
   ],
   "source": [
    "data4.info()"
   ]
  },
  {
   "cell_type": "code",
   "execution_count": null,
   "metadata": {},
   "outputs": [],
   "source": []
  }
 ],
 "metadata": {
  "kernelspec": {
   "display_name": "Python 3",
   "language": "python",
   "name": "python3"
  },
  "language_info": {
   "codemirror_mode": {
    "name": "ipython",
    "version": 3
   },
   "file_extension": ".py",
   "mimetype": "text/x-python",
   "name": "python",
   "nbconvert_exporter": "python",
   "pygments_lexer": "ipython3",
   "version": "3.7.4"
  }
 },
 "nbformat": 4,
 "nbformat_minor": 2
}
