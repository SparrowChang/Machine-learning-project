{
 "cells": [
  {
   "cell_type": "code",
   "execution_count": 1,
   "metadata": {},
   "outputs": [],
   "source": [
    "import numpy as np"
   ]
  },
  {
   "cell_type": "code",
   "execution_count": 2,
   "metadata": {},
   "outputs": [],
   "source": [
    "import pandas as pd"
   ]
  },
  {
   "cell_type": "code",
   "execution_count": 3,
   "metadata": {},
   "outputs": [],
   "source": [
    "import matplotlib.pyplot as plt"
   ]
  },
  {
   "cell_type": "code",
   "execution_count": 4,
   "metadata": {},
   "outputs": [],
   "source": [
    "data3 = pd.read_csv('prebi.csv')"
   ]
  },
  {
   "cell_type": "code",
   "execution_count": 5,
   "metadata": {},
   "outputs": [
    {
     "data": {
      "text/html": [
       "<div>\n",
       "<style scoped>\n",
       "    .dataframe tbody tr th:only-of-type {\n",
       "        vertical-align: middle;\n",
       "    }\n",
       "\n",
       "    .dataframe tbody tr th {\n",
       "        vertical-align: top;\n",
       "    }\n",
       "\n",
       "    .dataframe thead th {\n",
       "        text-align: right;\n",
       "    }\n",
       "</style>\n",
       "<table border=\"1\" class=\"dataframe\">\n",
       "  <thead>\n",
       "    <tr style=\"text-align: right;\">\n",
       "      <th></th>\n",
       "      <th>WaferID</th>\n",
       "      <th>X</th>\n",
       "      <th>Y</th>\n",
       "      <th>BI_TEST_13</th>\n",
       "      <th>BI_TEST_14</th>\n",
       "      <th>BI_TEST_15</th>\n",
       "      <th>BI_TEST_16</th>\n",
       "      <th>BI_TEST_17</th>\n",
       "      <th>BI_TEST_18</th>\n",
       "      <th>BI_TEST_19</th>\n",
       "      <th>...</th>\n",
       "      <th>BI_TEST_144</th>\n",
       "      <th>BI_TEST_145</th>\n",
       "      <th>BI_TEST_146</th>\n",
       "      <th>BI_TEST_147</th>\n",
       "      <th>BI_TEST_148</th>\n",
       "      <th>BI_TEST_149</th>\n",
       "      <th>BI_TEST_150</th>\n",
       "      <th>BI_TEST_151</th>\n",
       "      <th>BI_TEST_152</th>\n",
       "      <th>BI_TEST_153</th>\n",
       "    </tr>\n",
       "  </thead>\n",
       "  <tbody>\n",
       "    <tr>\n",
       "      <td>0</td>\n",
       "      <td>WAFER_20</td>\n",
       "      <td>-15</td>\n",
       "      <td>66</td>\n",
       "      <td>19.577675</td>\n",
       "      <td>2.536826</td>\n",
       "      <td>-0.287395</td>\n",
       "      <td>-0.288022</td>\n",
       "      <td>-0.287411</td>\n",
       "      <td>-0.287279</td>\n",
       "      <td>-0.178449</td>\n",
       "      <td>...</td>\n",
       "      <td>0.311264</td>\n",
       "      <td>0.313784</td>\n",
       "      <td>0.311951</td>\n",
       "      <td>-0.287279</td>\n",
       "      <td>-0.287597</td>\n",
       "      <td>-0.290073</td>\n",
       "      <td>-0.287883</td>\n",
       "      <td>-0.288711</td>\n",
       "      <td>-0.180185</td>\n",
       "      <td>0.312843</td>\n",
       "    </tr>\n",
       "    <tr>\n",
       "      <td>1</td>\n",
       "      <td>WAFER_20</td>\n",
       "      <td>-22</td>\n",
       "      <td>67</td>\n",
       "      <td>3.799862</td>\n",
       "      <td>1.835475</td>\n",
       "      <td>-0.279052</td>\n",
       "      <td>-0.278470</td>\n",
       "      <td>-0.278787</td>\n",
       "      <td>-0.279657</td>\n",
       "      <td>-0.173280</td>\n",
       "      <td>...</td>\n",
       "      <td>0.307734</td>\n",
       "      <td>0.310632</td>\n",
       "      <td>0.307930</td>\n",
       "      <td>-0.278625</td>\n",
       "      <td>-0.278950</td>\n",
       "      <td>-0.281417</td>\n",
       "      <td>-0.278728</td>\n",
       "      <td>-0.280552</td>\n",
       "      <td>-0.174175</td>\n",
       "      <td>0.310819</td>\n",
       "    </tr>\n",
       "    <tr>\n",
       "      <td>2</td>\n",
       "      <td>WAFER_09</td>\n",
       "      <td>-10</td>\n",
       "      <td>-13</td>\n",
       "      <td>3.346803</td>\n",
       "      <td>1.740828</td>\n",
       "      <td>-0.286177</td>\n",
       "      <td>-0.287052</td>\n",
       "      <td>-0.287169</td>\n",
       "      <td>-0.286905</td>\n",
       "      <td>-0.184919</td>\n",
       "      <td>...</td>\n",
       "      <td>0.318903</td>\n",
       "      <td>0.320765</td>\n",
       "      <td>0.317666</td>\n",
       "      <td>-0.286611</td>\n",
       "      <td>-0.286317</td>\n",
       "      <td>-0.288524</td>\n",
       "      <td>-0.286278</td>\n",
       "      <td>-0.289654</td>\n",
       "      <td>-0.185502</td>\n",
       "      <td>0.320825</td>\n",
       "    </tr>\n",
       "    <tr>\n",
       "      <td>3</td>\n",
       "      <td>WAFER_09</td>\n",
       "      <td>-20</td>\n",
       "      <td>0</td>\n",
       "      <td>3.131167</td>\n",
       "      <td>1.942427</td>\n",
       "      <td>-0.284668</td>\n",
       "      <td>-0.284011</td>\n",
       "      <td>-0.284901</td>\n",
       "      <td>-0.284460</td>\n",
       "      <td>-0.178194</td>\n",
       "      <td>...</td>\n",
       "      <td>0.313126</td>\n",
       "      <td>0.314156</td>\n",
       "      <td>0.310606</td>\n",
       "      <td>-0.284762</td>\n",
       "      <td>-0.284019</td>\n",
       "      <td>-0.286433</td>\n",
       "      <td>-0.284668</td>\n",
       "      <td>-0.290242</td>\n",
       "      <td>-0.179099</td>\n",
       "      <td>0.315039</td>\n",
       "    </tr>\n",
       "    <tr>\n",
       "      <td>4</td>\n",
       "      <td>WAFER_01</td>\n",
       "      <td>-12</td>\n",
       "      <td>-12</td>\n",
       "      <td>6.524867</td>\n",
       "      <td>1.752218</td>\n",
       "      <td>-0.286434</td>\n",
       "      <td>-0.286558</td>\n",
       "      <td>-0.286620</td>\n",
       "      <td>-0.286333</td>\n",
       "      <td>-0.186110</td>\n",
       "      <td>...</td>\n",
       "      <td>0.321721</td>\n",
       "      <td>0.323525</td>\n",
       "      <td>0.319923</td>\n",
       "      <td>-0.286782</td>\n",
       "      <td>-0.287022</td>\n",
       "      <td>-0.289490</td>\n",
       "      <td>-0.286875</td>\n",
       "      <td>-0.291752</td>\n",
       "      <td>-0.186138</td>\n",
       "      <td>0.324113</td>\n",
       "    </tr>\n",
       "    <tr>\n",
       "      <td>...</td>\n",
       "      <td>...</td>\n",
       "      <td>...</td>\n",
       "      <td>...</td>\n",
       "      <td>...</td>\n",
       "      <td>...</td>\n",
       "      <td>...</td>\n",
       "      <td>...</td>\n",
       "      <td>...</td>\n",
       "      <td>...</td>\n",
       "      <td>...</td>\n",
       "      <td>...</td>\n",
       "      <td>...</td>\n",
       "      <td>...</td>\n",
       "      <td>...</td>\n",
       "      <td>...</td>\n",
       "      <td>...</td>\n",
       "      <td>...</td>\n",
       "      <td>...</td>\n",
       "      <td>...</td>\n",
       "      <td>...</td>\n",
       "      <td>...</td>\n",
       "    </tr>\n",
       "    <tr>\n",
       "      <td>372</td>\n",
       "      <td>WAFER_04</td>\n",
       "      <td>-14</td>\n",
       "      <td>78</td>\n",
       "      <td>7.790592</td>\n",
       "      <td>2.218879</td>\n",
       "      <td>-0.286317</td>\n",
       "      <td>-0.286921</td>\n",
       "      <td>-0.286155</td>\n",
       "      <td>-0.286603</td>\n",
       "      <td>-0.179040</td>\n",
       "      <td>...</td>\n",
       "      <td>0.306507</td>\n",
       "      <td>0.310214</td>\n",
       "      <td>0.308017</td>\n",
       "      <td>-0.286147</td>\n",
       "      <td>-0.286580</td>\n",
       "      <td>-0.289081</td>\n",
       "      <td>-0.287339</td>\n",
       "      <td>-0.289701</td>\n",
       "      <td>-0.180345</td>\n",
       "      <td>0.309782</td>\n",
       "    </tr>\n",
       "    <tr>\n",
       "      <td>373</td>\n",
       "      <td>WAFER_04</td>\n",
       "      <td>-15</td>\n",
       "      <td>78</td>\n",
       "      <td>3.388821</td>\n",
       "      <td>13.671718</td>\n",
       "      <td>-0.286581</td>\n",
       "      <td>-0.287130</td>\n",
       "      <td>-0.287742</td>\n",
       "      <td>-0.286983</td>\n",
       "      <td>-0.178456</td>\n",
       "      <td>...</td>\n",
       "      <td>0.306468</td>\n",
       "      <td>0.306312</td>\n",
       "      <td>0.306526</td>\n",
       "      <td>-0.287262</td>\n",
       "      <td>-0.287115</td>\n",
       "      <td>-0.287873</td>\n",
       "      <td>-0.286836</td>\n",
       "      <td>-0.288067</td>\n",
       "      <td>-0.178751</td>\n",
       "      <td>0.306801</td>\n",
       "    </tr>\n",
       "    <tr>\n",
       "      <td>374</td>\n",
       "      <td>WAFER_04</td>\n",
       "      <td>-10</td>\n",
       "      <td>78</td>\n",
       "      <td>4.738933</td>\n",
       "      <td>4.456927</td>\n",
       "      <td>-0.285148</td>\n",
       "      <td>-0.284985</td>\n",
       "      <td>-0.286162</td>\n",
       "      <td>-0.285178</td>\n",
       "      <td>-0.182115</td>\n",
       "      <td>...</td>\n",
       "      <td>0.310998</td>\n",
       "      <td>0.314362</td>\n",
       "      <td>0.311724</td>\n",
       "      <td>-0.284544</td>\n",
       "      <td>-0.285155</td>\n",
       "      <td>-0.287378</td>\n",
       "      <td>-0.285891</td>\n",
       "      <td>-0.288105</td>\n",
       "      <td>-0.182409</td>\n",
       "      <td>0.313322</td>\n",
       "    </tr>\n",
       "    <tr>\n",
       "      <td>375</td>\n",
       "      <td>WAFER_04</td>\n",
       "      <td>-11</td>\n",
       "      <td>79</td>\n",
       "      <td>3.382593</td>\n",
       "      <td>2.561457</td>\n",
       "      <td>-0.285233</td>\n",
       "      <td>-0.284754</td>\n",
       "      <td>-0.285079</td>\n",
       "      <td>-0.284622</td>\n",
       "      <td>-0.181527</td>\n",
       "      <td>...</td>\n",
       "      <td>0.309518</td>\n",
       "      <td>0.312313</td>\n",
       "      <td>0.311361</td>\n",
       "      <td>-0.285211</td>\n",
       "      <td>-0.285652</td>\n",
       "      <td>-0.287989</td>\n",
       "      <td>-0.285195</td>\n",
       "      <td>-0.286874</td>\n",
       "      <td>-0.180497</td>\n",
       "      <td>0.312950</td>\n",
       "    </tr>\n",
       "    <tr>\n",
       "      <td>376</td>\n",
       "      <td>WAFER_04</td>\n",
       "      <td>-9</td>\n",
       "      <td>79</td>\n",
       "      <td>4.021067</td>\n",
       "      <td>3.653287</td>\n",
       "      <td>-0.285883</td>\n",
       "      <td>-0.286023</td>\n",
       "      <td>-0.285845</td>\n",
       "      <td>-0.285876</td>\n",
       "      <td>-0.180359</td>\n",
       "      <td>...</td>\n",
       "      <td>0.311547</td>\n",
       "      <td>0.313705</td>\n",
       "      <td>0.311195</td>\n",
       "      <td>-0.286317</td>\n",
       "      <td>-0.285728</td>\n",
       "      <td>-0.287347</td>\n",
       "      <td>-0.286131</td>\n",
       "      <td>-0.288477</td>\n",
       "      <td>-0.179472</td>\n",
       "      <td>0.313322</td>\n",
       "    </tr>\n",
       "  </tbody>\n",
       "</table>\n",
       "<p>377 rows × 107 columns</p>\n",
       "</div>"
      ],
      "text/plain": [
       "      WaferID   X   Y  BI_TEST_13  BI_TEST_14  BI_TEST_15  BI_TEST_16  \\\n",
       "0    WAFER_20 -15  66   19.577675    2.536826   -0.287395   -0.288022   \n",
       "1    WAFER_20 -22  67    3.799862    1.835475   -0.279052   -0.278470   \n",
       "2    WAFER_09 -10 -13    3.346803    1.740828   -0.286177   -0.287052   \n",
       "3    WAFER_09 -20   0    3.131167    1.942427   -0.284668   -0.284011   \n",
       "4    WAFER_01 -12 -12    6.524867    1.752218   -0.286434   -0.286558   \n",
       "..        ...  ..  ..         ...         ...         ...         ...   \n",
       "372  WAFER_04 -14  78    7.790592    2.218879   -0.286317   -0.286921   \n",
       "373  WAFER_04 -15  78    3.388821   13.671718   -0.286581   -0.287130   \n",
       "374  WAFER_04 -10  78    4.738933    4.456927   -0.285148   -0.284985   \n",
       "375  WAFER_04 -11  79    3.382593    2.561457   -0.285233   -0.284754   \n",
       "376  WAFER_04  -9  79    4.021067    3.653287   -0.285883   -0.286023   \n",
       "\n",
       "     BI_TEST_17  BI_TEST_18  BI_TEST_19  ...  BI_TEST_144  BI_TEST_145  \\\n",
       "0     -0.287411   -0.287279   -0.178449  ...     0.311264     0.313784   \n",
       "1     -0.278787   -0.279657   -0.173280  ...     0.307734     0.310632   \n",
       "2     -0.287169   -0.286905   -0.184919  ...     0.318903     0.320765   \n",
       "3     -0.284901   -0.284460   -0.178194  ...     0.313126     0.314156   \n",
       "4     -0.286620   -0.286333   -0.186110  ...     0.321721     0.323525   \n",
       "..          ...         ...         ...  ...          ...          ...   \n",
       "372   -0.286155   -0.286603   -0.179040  ...     0.306507     0.310214   \n",
       "373   -0.287742   -0.286983   -0.178456  ...     0.306468     0.306312   \n",
       "374   -0.286162   -0.285178   -0.182115  ...     0.310998     0.314362   \n",
       "375   -0.285079   -0.284622   -0.181527  ...     0.309518     0.312313   \n",
       "376   -0.285845   -0.285876   -0.180359  ...     0.311547     0.313705   \n",
       "\n",
       "     BI_TEST_146  BI_TEST_147  BI_TEST_148  BI_TEST_149  BI_TEST_150  \\\n",
       "0       0.311951    -0.287279    -0.287597    -0.290073    -0.287883   \n",
       "1       0.307930    -0.278625    -0.278950    -0.281417    -0.278728   \n",
       "2       0.317666    -0.286611    -0.286317    -0.288524    -0.286278   \n",
       "3       0.310606    -0.284762    -0.284019    -0.286433    -0.284668   \n",
       "4       0.319923    -0.286782    -0.287022    -0.289490    -0.286875   \n",
       "..           ...          ...          ...          ...          ...   \n",
       "372     0.308017    -0.286147    -0.286580    -0.289081    -0.287339   \n",
       "373     0.306526    -0.287262    -0.287115    -0.287873    -0.286836   \n",
       "374     0.311724    -0.284544    -0.285155    -0.287378    -0.285891   \n",
       "375     0.311361    -0.285211    -0.285652    -0.287989    -0.285195   \n",
       "376     0.311195    -0.286317    -0.285728    -0.287347    -0.286131   \n",
       "\n",
       "     BI_TEST_151  BI_TEST_152  BI_TEST_153  \n",
       "0      -0.288711    -0.180185     0.312843  \n",
       "1      -0.280552    -0.174175     0.310819  \n",
       "2      -0.289654    -0.185502     0.320825  \n",
       "3      -0.290242    -0.179099     0.315039  \n",
       "4      -0.291752    -0.186138     0.324113  \n",
       "..           ...          ...          ...  \n",
       "372    -0.289701    -0.180345     0.309782  \n",
       "373    -0.288067    -0.178751     0.306801  \n",
       "374    -0.288105    -0.182409     0.313322  \n",
       "375    -0.286874    -0.180497     0.312950  \n",
       "376    -0.288477    -0.179472     0.313322  \n",
       "\n",
       "[377 rows x 107 columns]"
      ]
     },
     "execution_count": 5,
     "metadata": {},
     "output_type": "execute_result"
    }
   ],
   "source": [
    "data3"
   ]
  },
  {
   "cell_type": "code",
   "execution_count": 6,
   "metadata": {},
   "outputs": [
    {
     "data": {
      "text/plain": [
       "(377, 107)"
      ]
     },
     "execution_count": 6,
     "metadata": {},
     "output_type": "execute_result"
    }
   ],
   "source": [
    "data3.shape"
   ]
  },
  {
   "cell_type": "code",
   "execution_count": 7,
   "metadata": {},
   "outputs": [
    {
     "data": {
      "text/html": [
       "<div>\n",
       "<style scoped>\n",
       "    .dataframe tbody tr th:only-of-type {\n",
       "        vertical-align: middle;\n",
       "    }\n",
       "\n",
       "    .dataframe tbody tr th {\n",
       "        vertical-align: top;\n",
       "    }\n",
       "\n",
       "    .dataframe thead th {\n",
       "        text-align: right;\n",
       "    }\n",
       "</style>\n",
       "<table border=\"1\" class=\"dataframe\">\n",
       "  <thead>\n",
       "    <tr style=\"text-align: right;\">\n",
       "      <th></th>\n",
       "      <th>WaferID</th>\n",
       "      <th>X</th>\n",
       "      <th>Y</th>\n",
       "      <th>BI_TEST_13</th>\n",
       "      <th>BI_TEST_14</th>\n",
       "      <th>BI_TEST_15</th>\n",
       "      <th>BI_TEST_16</th>\n",
       "      <th>BI_TEST_17</th>\n",
       "      <th>BI_TEST_18</th>\n",
       "      <th>BI_TEST_19</th>\n",
       "      <th>...</th>\n",
       "      <th>BI_TEST_144</th>\n",
       "      <th>BI_TEST_145</th>\n",
       "      <th>BI_TEST_146</th>\n",
       "      <th>BI_TEST_147</th>\n",
       "      <th>BI_TEST_148</th>\n",
       "      <th>BI_TEST_149</th>\n",
       "      <th>BI_TEST_150</th>\n",
       "      <th>BI_TEST_151</th>\n",
       "      <th>BI_TEST_152</th>\n",
       "      <th>BI_TEST_153</th>\n",
       "    </tr>\n",
       "  </thead>\n",
       "  <tbody>\n",
       "    <tr>\n",
       "      <td>372</td>\n",
       "      <td>WAFER_04</td>\n",
       "      <td>-14</td>\n",
       "      <td>78</td>\n",
       "      <td>7.790592</td>\n",
       "      <td>2.218879</td>\n",
       "      <td>-0.286317</td>\n",
       "      <td>-0.286921</td>\n",
       "      <td>-0.286155</td>\n",
       "      <td>-0.286603</td>\n",
       "      <td>-0.179040</td>\n",
       "      <td>...</td>\n",
       "      <td>0.306507</td>\n",
       "      <td>0.310214</td>\n",
       "      <td>0.308017</td>\n",
       "      <td>-0.286147</td>\n",
       "      <td>-0.286580</td>\n",
       "      <td>-0.289081</td>\n",
       "      <td>-0.287339</td>\n",
       "      <td>-0.289701</td>\n",
       "      <td>-0.180345</td>\n",
       "      <td>0.309782</td>\n",
       "    </tr>\n",
       "    <tr>\n",
       "      <td>373</td>\n",
       "      <td>WAFER_04</td>\n",
       "      <td>-15</td>\n",
       "      <td>78</td>\n",
       "      <td>3.388821</td>\n",
       "      <td>13.671718</td>\n",
       "      <td>-0.286581</td>\n",
       "      <td>-0.287130</td>\n",
       "      <td>-0.287742</td>\n",
       "      <td>-0.286983</td>\n",
       "      <td>-0.178456</td>\n",
       "      <td>...</td>\n",
       "      <td>0.306468</td>\n",
       "      <td>0.306312</td>\n",
       "      <td>0.306526</td>\n",
       "      <td>-0.287262</td>\n",
       "      <td>-0.287115</td>\n",
       "      <td>-0.287873</td>\n",
       "      <td>-0.286836</td>\n",
       "      <td>-0.288067</td>\n",
       "      <td>-0.178751</td>\n",
       "      <td>0.306801</td>\n",
       "    </tr>\n",
       "    <tr>\n",
       "      <td>374</td>\n",
       "      <td>WAFER_04</td>\n",
       "      <td>-10</td>\n",
       "      <td>78</td>\n",
       "      <td>4.738933</td>\n",
       "      <td>4.456927</td>\n",
       "      <td>-0.285148</td>\n",
       "      <td>-0.284985</td>\n",
       "      <td>-0.286162</td>\n",
       "      <td>-0.285178</td>\n",
       "      <td>-0.182115</td>\n",
       "      <td>...</td>\n",
       "      <td>0.310998</td>\n",
       "      <td>0.314362</td>\n",
       "      <td>0.311724</td>\n",
       "      <td>-0.284544</td>\n",
       "      <td>-0.285155</td>\n",
       "      <td>-0.287378</td>\n",
       "      <td>-0.285891</td>\n",
       "      <td>-0.288105</td>\n",
       "      <td>-0.182409</td>\n",
       "      <td>0.313322</td>\n",
       "    </tr>\n",
       "    <tr>\n",
       "      <td>375</td>\n",
       "      <td>WAFER_04</td>\n",
       "      <td>-11</td>\n",
       "      <td>79</td>\n",
       "      <td>3.382593</td>\n",
       "      <td>2.561457</td>\n",
       "      <td>-0.285233</td>\n",
       "      <td>-0.284754</td>\n",
       "      <td>-0.285079</td>\n",
       "      <td>-0.284622</td>\n",
       "      <td>-0.181527</td>\n",
       "      <td>...</td>\n",
       "      <td>0.309518</td>\n",
       "      <td>0.312313</td>\n",
       "      <td>0.311361</td>\n",
       "      <td>-0.285211</td>\n",
       "      <td>-0.285652</td>\n",
       "      <td>-0.287989</td>\n",
       "      <td>-0.285195</td>\n",
       "      <td>-0.286874</td>\n",
       "      <td>-0.180497</td>\n",
       "      <td>0.312950</td>\n",
       "    </tr>\n",
       "    <tr>\n",
       "      <td>376</td>\n",
       "      <td>WAFER_04</td>\n",
       "      <td>-9</td>\n",
       "      <td>79</td>\n",
       "      <td>4.021067</td>\n",
       "      <td>3.653287</td>\n",
       "      <td>-0.285883</td>\n",
       "      <td>-0.286023</td>\n",
       "      <td>-0.285845</td>\n",
       "      <td>-0.285876</td>\n",
       "      <td>-0.180359</td>\n",
       "      <td>...</td>\n",
       "      <td>0.311547</td>\n",
       "      <td>0.313705</td>\n",
       "      <td>0.311195</td>\n",
       "      <td>-0.286317</td>\n",
       "      <td>-0.285728</td>\n",
       "      <td>-0.287347</td>\n",
       "      <td>-0.286131</td>\n",
       "      <td>-0.288477</td>\n",
       "      <td>-0.179472</td>\n",
       "      <td>0.313322</td>\n",
       "    </tr>\n",
       "  </tbody>\n",
       "</table>\n",
       "<p>5 rows × 107 columns</p>\n",
       "</div>"
      ],
      "text/plain": [
       "      WaferID   X   Y  BI_TEST_13  BI_TEST_14  BI_TEST_15  BI_TEST_16  \\\n",
       "372  WAFER_04 -14  78    7.790592    2.218879   -0.286317   -0.286921   \n",
       "373  WAFER_04 -15  78    3.388821   13.671718   -0.286581   -0.287130   \n",
       "374  WAFER_04 -10  78    4.738933    4.456927   -0.285148   -0.284985   \n",
       "375  WAFER_04 -11  79    3.382593    2.561457   -0.285233   -0.284754   \n",
       "376  WAFER_04  -9  79    4.021067    3.653287   -0.285883   -0.286023   \n",
       "\n",
       "     BI_TEST_17  BI_TEST_18  BI_TEST_19  ...  BI_TEST_144  BI_TEST_145  \\\n",
       "372   -0.286155   -0.286603   -0.179040  ...     0.306507     0.310214   \n",
       "373   -0.287742   -0.286983   -0.178456  ...     0.306468     0.306312   \n",
       "374   -0.286162   -0.285178   -0.182115  ...     0.310998     0.314362   \n",
       "375   -0.285079   -0.284622   -0.181527  ...     0.309518     0.312313   \n",
       "376   -0.285845   -0.285876   -0.180359  ...     0.311547     0.313705   \n",
       "\n",
       "     BI_TEST_146  BI_TEST_147  BI_TEST_148  BI_TEST_149  BI_TEST_150  \\\n",
       "372     0.308017    -0.286147    -0.286580    -0.289081    -0.287339   \n",
       "373     0.306526    -0.287262    -0.287115    -0.287873    -0.286836   \n",
       "374     0.311724    -0.284544    -0.285155    -0.287378    -0.285891   \n",
       "375     0.311361    -0.285211    -0.285652    -0.287989    -0.285195   \n",
       "376     0.311195    -0.286317    -0.285728    -0.287347    -0.286131   \n",
       "\n",
       "     BI_TEST_151  BI_TEST_152  BI_TEST_153  \n",
       "372    -0.289701    -0.180345     0.309782  \n",
       "373    -0.288067    -0.178751     0.306801  \n",
       "374    -0.288105    -0.182409     0.313322  \n",
       "375    -0.286874    -0.180497     0.312950  \n",
       "376    -0.288477    -0.179472     0.313322  \n",
       "\n",
       "[5 rows x 107 columns]"
      ]
     },
     "execution_count": 7,
     "metadata": {},
     "output_type": "execute_result"
    }
   ],
   "source": [
    "data3.tail()"
   ]
  },
  {
   "cell_type": "code",
   "execution_count": 8,
   "metadata": {},
   "outputs": [
    {
     "data": {
      "text/plain": [
       "0      19.577675\n",
       "1       3.799862\n",
       "2       3.346803\n",
       "3       3.131167\n",
       "4       6.524867\n",
       "         ...    \n",
       "372     7.790592\n",
       "373     3.388821\n",
       "374     4.738933\n",
       "375     3.382593\n",
       "376     4.021067\n",
       "Name: BI_TEST_13, Length: 377, dtype: float64"
      ]
     },
     "execution_count": 8,
     "metadata": {},
     "output_type": "execute_result"
    }
   ],
   "source": [
    "BT_1 = data3['BI_TEST_13']\n",
    "BT_1"
   ]
  },
  {
   "cell_type": "code",
   "execution_count": 9,
   "metadata": {},
   "outputs": [
    {
     "name": "stdout",
     "output_type": "stream",
     "text": [
      "9.140675762920228\n",
      "7.912674403085873\n",
      "2.9521758556366\n",
      "35.2378921508789\n"
     ]
    }
   ],
   "source": [
    "#mean, stdev, min, max\n",
    "print(np.mean(BT_1))\n",
    "print(np.std(BT_1))\n",
    "print(np.min(BT_1))\n",
    "print(np.max(BT_1))"
   ]
  },
  {
   "cell_type": "code",
   "execution_count": 10,
   "metadata": {},
   "outputs": [
    {
     "name": "stdout",
     "output_type": "stream",
     "text": [
      "3.56009483337402\n",
      "14.198839187622099\n"
     ]
    }
   ],
   "source": [
    "#the 25th annd 75th percentile\n",
    "print(np.percentile(BT_1, 25))\n",
    "print(np.percentile(BT_1, 75))"
   ]
  },
  {
   "cell_type": "code",
   "execution_count": 11,
   "metadata": {},
   "outputs": [
    {
     "data": {
      "text/plain": [
       "Text(0, 0.5, 'number')"
      ]
     },
     "execution_count": 11,
     "metadata": {},
     "output_type": "execute_result"
    },
    {
     "data": {
      "image/png": "[encoded data removed]",
      "text/plain": [
       "<Figure size 432x288 with 1 Axes>"
      ]
     },
     "metadata": {
      "needs_background": "light"
     },
     "output_type": "display_data"
    }
   ],
   "source": [
    "plt.hist(BT_1)\n",
    "plt.title('BT_1 data')\n",
    "plt.xlabel('data')\n",
    "plt.ylabel('number')"
   ]
  },
  {
   "cell_type": "code",
   "execution_count": 12,
   "metadata": {},
   "outputs": [
    {
     "data": {
      "text/plain": [
       "RangeIndex(start=0, stop=377, step=1)"
      ]
     },
     "execution_count": 12,
     "metadata": {},
     "output_type": "execute_result"
    }
   ],
   "source": [
    "data3.index #wafer min(1)/max(55) measurement points, total 23 wafers (377 points)"
   ]
  },
  {
   "cell_type": "code",
   "execution_count": 13,
   "metadata": {},
   "outputs": [
    {
     "data": {
      "text/plain": [
       "Index(['WaferID', 'X', 'Y', 'BI_TEST_13', 'BI_TEST_14', 'BI_TEST_15',\n",
       "       'BI_TEST_16', 'BI_TEST_17', 'BI_TEST_18', 'BI_TEST_19',\n",
       "       ...\n",
       "       'BI_TEST_144', 'BI_TEST_145', 'BI_TEST_146', 'BI_TEST_147',\n",
       "       'BI_TEST_148', 'BI_TEST_149', 'BI_TEST_150', 'BI_TEST_151',\n",
       "       'BI_TEST_152', 'BI_TEST_153'],\n",
       "      dtype='object', length=107)"
      ]
     },
     "execution_count": 13,
     "metadata": {},
     "output_type": "execute_result"
    }
   ],
   "source": [
    "data3.columns #total 107 burn-in test items"
   ]
  },
  {
   "cell_type": "code",
   "execution_count": 14,
   "metadata": {},
   "outputs": [
    {
     "data": {
      "text/plain": [
       "377"
      ]
     },
     "execution_count": 14,
     "metadata": {},
     "output_type": "execute_result"
    }
   ],
   "source": [
    "data3['WaferID'].count()"
   ]
  },
  {
   "cell_type": "code",
   "execution_count": 15,
   "metadata": {},
   "outputs": [
    {
     "data": {
      "text/plain": [
       "0      WAFER_20\n",
       "1      WAFER_20\n",
       "2      WAFER_09\n",
       "3      WAFER_09\n",
       "4      WAFER_01\n",
       "         ...   \n",
       "372    WAFER_04\n",
       "373    WAFER_04\n",
       "374    WAFER_04\n",
       "375    WAFER_04\n",
       "376    WAFER_04\n",
       "Name: WaferID, Length: 377, dtype: object"
      ]
     },
     "execution_count": 15,
     "metadata": {},
     "output_type": "execute_result"
    }
   ],
   "source": [
    "data3['WaferID']"
   ]
  },
  {
   "cell_type": "code",
   "execution_count": 16,
   "metadata": {},
   "outputs": [
    {
     "data": {
      "text/plain": [
       "0"
      ]
     },
     "execution_count": 16,
     "metadata": {},
     "output_type": "execute_result"
    }
   ],
   "source": [
    "data3['BI_TEST_13'].isnull().sum()\n",
    "data3['BI_TEST_14'].isnull().sum()\n",
    "data3['BI_TEST_153'].isnull().sum()"
   ]
  },
  {
   "cell_type": "code",
   "execution_count": 17,
   "metadata": {},
   "outputs": [
    {
     "data": {
      "text/plain": [
       "WaferID        377\n",
       "X              377\n",
       "Y              377\n",
       "BI_TEST_13     377\n",
       "BI_TEST_14     377\n",
       "              ... \n",
       "BI_TEST_149    377\n",
       "BI_TEST_150    377\n",
       "BI_TEST_151    377\n",
       "BI_TEST_152    377\n",
       "BI_TEST_153    377\n",
       "Length: 107, dtype: int64"
      ]
     },
     "execution_count": 17,
     "metadata": {},
     "output_type": "execute_result"
    }
   ],
   "source": [
    "data3=data3.dropna()\n",
    "data3.count()"
   ]
  },
  {
   "cell_type": "code",
   "execution_count": 18,
   "metadata": {},
   "outputs": [
    {
     "data": {
      "text/plain": [
       "WaferID        0\n",
       "X              0\n",
       "Y              0\n",
       "BI_TEST_13     0\n",
       "BI_TEST_14     0\n",
       "              ..\n",
       "BI_TEST_149    0\n",
       "BI_TEST_150    0\n",
       "BI_TEST_151    0\n",
       "BI_TEST_152    0\n",
       "BI_TEST_153    0\n",
       "Length: 107, dtype: int64"
      ]
     },
     "execution_count": 18,
     "metadata": {},
     "output_type": "execute_result"
    }
   ],
   "source": [
    "data3.isnull().sum()"
   ]
  },
  {
   "cell_type": "code",
   "execution_count": 19,
   "metadata": {},
   "outputs": [
    {
     "name": "stdout",
     "output_type": "stream",
     "text": [
      "<class 'pandas.core.frame.DataFrame'>\n",
      "Int64Index: 377 entries, 0 to 376\n",
      "Columns: 107 entries, WaferID to BI_TEST_153\n",
      "dtypes: float64(104), int64(2), object(1)\n",
      "memory usage: 318.1+ KB\n"
     ]
    }
   ],
   "source": [
    "data3.info()"
   ]
  },
  {
   "cell_type": "code",
   "execution_count": null,
   "metadata": {},
   "outputs": [],
   "source": []
  }
 ],
 "metadata": {
  "kernelspec": {
   "display_name": "Python 3",
   "language": "python",
   "name": "python3"
  },
  "language_info": {
   "codemirror_mode": {
    "name": "ipython",
    "version": 3
   },
   "file_extension": ".py",
   "mimetype": "text/x-python",
   "name": "python",
   "nbconvert_exporter": "python",
   "pygments_lexer": "ipython3",
   "version": "3.7.4"
  }
 },
 "nbformat": 4,
 "nbformat_minor": 2
}
