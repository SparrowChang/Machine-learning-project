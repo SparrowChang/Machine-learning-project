{
 "cells": [
  {
   "cell_type": "code",
   "execution_count": 2,
   "metadata": {},
   "outputs": [],
   "source": [
    "import numpy as np"
   ]
  },
  {
   "cell_type": "code",
   "execution_count": 3,
   "metadata": {},
   "outputs": [],
   "source": [
    "import pandas as pd"
   ]
  },
  {
   "cell_type": "code",
   "execution_count": 4,
   "metadata": {},
   "outputs": [],
   "source": [
    "import matplotlib.pyplot as plt"
   ]
  },
  {
   "cell_type": "code",
   "execution_count": 5,
   "metadata": {},
   "outputs": [],
   "source": [
    "data2 = pd.read_csv('probe_tests.csv')"
   ]
  },
  {
   "cell_type": "code",
   "execution_count": 6,
   "metadata": {},
   "outputs": [
    {
     "data": {
      "text/html": [
       "<div>\n",
       "<style scoped>\n",
       "    .dataframe tbody tr th:only-of-type {\n",
       "        vertical-align: middle;\n",
       "    }\n",
       "\n",
       "    .dataframe tbody tr th {\n",
       "        vertical-align: top;\n",
       "    }\n",
       "\n",
       "    .dataframe thead th {\n",
       "        text-align: right;\n",
       "    }\n",
       "</style>\n",
       "<table border=\"1\" class=\"dataframe\">\n",
       "  <thead>\n",
       "    <tr style=\"text-align: right;\">\n",
       "      <th></th>\n",
       "      <th>WaferID</th>\n",
       "      <th>X</th>\n",
       "      <th>Y</th>\n",
       "      <th>PROBE_TEST_1</th>\n",
       "      <th>PROBE_TEST_2</th>\n",
       "      <th>PROBE_TEST_3</th>\n",
       "      <th>PROBE_TEST_4</th>\n",
       "      <th>PROBE_TEST_5</th>\n",
       "      <th>PROBE_TEST_6</th>\n",
       "      <th>PROBE_TEST_7</th>\n",
       "      <th>...</th>\n",
       "      <th>PROBE_TEST_99</th>\n",
       "      <th>PROBE_TEST_100</th>\n",
       "      <th>PROBE_TEST_101</th>\n",
       "      <th>PROBE_TEST_102</th>\n",
       "      <th>PROBE_TEST_103</th>\n",
       "      <th>PROBE_TEST_104</th>\n",
       "      <th>PROBE_TEST_105</th>\n",
       "      <th>PROBE_TEST_106</th>\n",
       "      <th>PROBE_TEST_107</th>\n",
       "      <th>PROBE_TEST_108</th>\n",
       "    </tr>\n",
       "  </thead>\n",
       "  <tbody>\n",
       "    <tr>\n",
       "      <td>0</td>\n",
       "      <td>WAFER_01</td>\n",
       "      <td>15</td>\n",
       "      <td>13</td>\n",
       "      <td>3.323322</td>\n",
       "      <td>41344.0</td>\n",
       "      <td>0.000000</td>\n",
       "      <td>41344.0</td>\n",
       "      <td>4.200427</td>\n",
       "      <td>41280.0</td>\n",
       "      <td>3.321201</td>\n",
       "      <td>...</td>\n",
       "      <td>0.186313</td>\n",
       "      <td>0.516278</td>\n",
       "      <td>1.052647</td>\n",
       "      <td>1.382612</td>\n",
       "      <td>0.548418</td>\n",
       "      <td>1.931031</td>\n",
       "      <td>1.277200</td>\n",
       "      <td>1.607165</td>\n",
       "      <td>0.504744</td>\n",
       "      <td>2.111909</td>\n",
       "    </tr>\n",
       "    <tr>\n",
       "      <td>1</td>\n",
       "      <td>WAFER_01</td>\n",
       "      <td>14</td>\n",
       "      <td>14</td>\n",
       "      <td>3.334859</td>\n",
       "      <td>42016.0</td>\n",
       "      <td>0.001056</td>\n",
       "      <td>42048.0</td>\n",
       "      <td>0.000000</td>\n",
       "      <td>42016.0</td>\n",
       "      <td>3.327465</td>\n",
       "      <td>...</td>\n",
       "      <td>0.188157</td>\n",
       "      <td>0.517358</td>\n",
       "      <td>1.094892</td>\n",
       "      <td>1.424093</td>\n",
       "      <td>0.474631</td>\n",
       "      <td>1.898724</td>\n",
       "      <td>1.265201</td>\n",
       "      <td>1.594402</td>\n",
       "      <td>0.492579</td>\n",
       "      <td>2.086981</td>\n",
       "    </tr>\n",
       "    <tr>\n",
       "      <td>2</td>\n",
       "      <td>WAFER_01</td>\n",
       "      <td>15</td>\n",
       "      <td>14</td>\n",
       "      <td>3.328521</td>\n",
       "      <td>42368.0</td>\n",
       "      <td>-0.001056</td>\n",
       "      <td>42336.0</td>\n",
       "      <td>4.169165</td>\n",
       "      <td>42304.0</td>\n",
       "      <td>3.326408</td>\n",
       "      <td>...</td>\n",
       "      <td>0.198527</td>\n",
       "      <td>0.528060</td>\n",
       "      <td>1.152194</td>\n",
       "      <td>1.481727</td>\n",
       "      <td>0.515912</td>\n",
       "      <td>1.997639</td>\n",
       "      <td>1.274242</td>\n",
       "      <td>1.603775</td>\n",
       "      <td>0.506738</td>\n",
       "      <td>2.110513</td>\n",
       "    </tr>\n",
       "    <tr>\n",
       "      <td>3</td>\n",
       "      <td>WAFER_01</td>\n",
       "      <td>13</td>\n",
       "      <td>15</td>\n",
       "      <td>3.338276</td>\n",
       "      <td>44800.0</td>\n",
       "      <td>0.000000</td>\n",
       "      <td>44800.0</td>\n",
       "      <td>2.039847</td>\n",
       "      <td>44768.0</td>\n",
       "      <td>3.331034</td>\n",
       "      <td>...</td>\n",
       "      <td>0.181875</td>\n",
       "      <td>0.509481</td>\n",
       "      <td>0.983214</td>\n",
       "      <td>1.310820</td>\n",
       "      <td>0.510528</td>\n",
       "      <td>1.821347</td>\n",
       "      <td>1.275172</td>\n",
       "      <td>1.602777</td>\n",
       "      <td>0.507137</td>\n",
       "      <td>2.109915</td>\n",
       "    </tr>\n",
       "    <tr>\n",
       "      <td>4</td>\n",
       "      <td>WAFER_01</td>\n",
       "      <td>14</td>\n",
       "      <td>15</td>\n",
       "      <td>3.365625</td>\n",
       "      <td>43776.0</td>\n",
       "      <td>0.001042</td>\n",
       "      <td>43808.0</td>\n",
       "      <td>4.074379</td>\n",
       "      <td>43712.0</td>\n",
       "      <td>3.344792</td>\n",
       "      <td>...</td>\n",
       "      <td>0.186961</td>\n",
       "      <td>0.517940</td>\n",
       "      <td>1.054426</td>\n",
       "      <td>1.385404</td>\n",
       "      <td>0.501354</td>\n",
       "      <td>1.886759</td>\n",
       "      <td>1.271400</td>\n",
       "      <td>1.602379</td>\n",
       "      <td>0.511325</td>\n",
       "      <td>2.113704</td>\n",
       "    </tr>\n",
       "    <tr>\n",
       "      <td>...</td>\n",
       "      <td>...</td>\n",
       "      <td>...</td>\n",
       "      <td>...</td>\n",
       "      <td>...</td>\n",
       "      <td>...</td>\n",
       "      <td>...</td>\n",
       "      <td>...</td>\n",
       "      <td>...</td>\n",
       "      <td>...</td>\n",
       "      <td>...</td>\n",
       "      <td>...</td>\n",
       "      <td>...</td>\n",
       "      <td>...</td>\n",
       "      <td>...</td>\n",
       "      <td>...</td>\n",
       "      <td>...</td>\n",
       "      <td>...</td>\n",
       "      <td>...</td>\n",
       "      <td>...</td>\n",
       "      <td>...</td>\n",
       "      <td>...</td>\n",
       "    </tr>\n",
       "    <tr>\n",
       "      <td>54930</td>\n",
       "      <td>WAFER_23</td>\n",
       "      <td>17</td>\n",
       "      <td>96</td>\n",
       "      <td>3.314237</td>\n",
       "      <td>45248.0</td>\n",
       "      <td>-0.001017</td>\n",
       "      <td>45216.0</td>\n",
       "      <td>4.149237</td>\n",
       "      <td>45184.0</td>\n",
       "      <td>3.311186</td>\n",
       "      <td>...</td>\n",
       "      <td>0.179632</td>\n",
       "      <td>0.507603</td>\n",
       "      <td>1.016751</td>\n",
       "      <td>1.344722</td>\n",
       "      <td>0.508134</td>\n",
       "      <td>1.852856</td>\n",
       "      <td>1.242101</td>\n",
       "      <td>1.570072</td>\n",
       "      <td>0.490186</td>\n",
       "      <td>2.060258</td>\n",
       "    </tr>\n",
       "    <tr>\n",
       "      <td>54931</td>\n",
       "      <td>WAFER_23</td>\n",
       "      <td>18</td>\n",
       "      <td>96</td>\n",
       "      <td>3.298940</td>\n",
       "      <td>40832.0</td>\n",
       "      <td>0.000000</td>\n",
       "      <td>40832.0</td>\n",
       "      <td>2.143403</td>\n",
       "      <td>40800.0</td>\n",
       "      <td>3.293640</td>\n",
       "      <td>...</td>\n",
       "      <td>0.188307</td>\n",
       "      <td>0.511342</td>\n",
       "      <td>1.088693</td>\n",
       "      <td>1.411729</td>\n",
       "      <td>0.494773</td>\n",
       "      <td>1.906501</td>\n",
       "      <td>1.257806</td>\n",
       "      <td>1.580841</td>\n",
       "      <td>0.494574</td>\n",
       "      <td>2.075414</td>\n",
       "    </tr>\n",
       "    <tr>\n",
       "      <td>54932</td>\n",
       "      <td>WAFER_23</td>\n",
       "      <td>19</td>\n",
       "      <td>96</td>\n",
       "      <td>3.326990</td>\n",
       "      <td>43584.0</td>\n",
       "      <td>0.000000</td>\n",
       "      <td>43584.0</td>\n",
       "      <td>2.064768</td>\n",
       "      <td>43552.0</td>\n",
       "      <td>3.309343</td>\n",
       "      <td>...</td>\n",
       "      <td>0.187592</td>\n",
       "      <td>0.514267</td>\n",
       "      <td>1.046365</td>\n",
       "      <td>1.373040</td>\n",
       "      <td>0.532065</td>\n",
       "      <td>1.905105</td>\n",
       "      <td>1.260947</td>\n",
       "      <td>1.587621</td>\n",
       "      <td>0.502750</td>\n",
       "      <td>2.090371</td>\n",
       "    </tr>\n",
       "    <tr>\n",
       "      <td>54933</td>\n",
       "      <td>WAFER_23</td>\n",
       "      <td>18</td>\n",
       "      <td>97</td>\n",
       "      <td>3.342105</td>\n",
       "      <td>42944.0</td>\n",
       "      <td>0.000000</td>\n",
       "      <td>42944.0</td>\n",
       "      <td>2.102086</td>\n",
       "      <td>42912.0</td>\n",
       "      <td>3.333684</td>\n",
       "      <td>...</td>\n",
       "      <td>0.184252</td>\n",
       "      <td>0.512223</td>\n",
       "      <td>1.021737</td>\n",
       "      <td>1.349707</td>\n",
       "      <td>0.506340</td>\n",
       "      <td>1.856047</td>\n",
       "      <td>1.253070</td>\n",
       "      <td>1.581040</td>\n",
       "      <td>0.500756</td>\n",
       "      <td>2.081796</td>\n",
       "    </tr>\n",
       "    <tr>\n",
       "      <td>54934</td>\n",
       "      <td>WAFER_23</td>\n",
       "      <td>19</td>\n",
       "      <td>97</td>\n",
       "      <td>3.342857</td>\n",
       "      <td>41056.0</td>\n",
       "      <td>0.000000</td>\n",
       "      <td>41056.0</td>\n",
       "      <td>4.208848</td>\n",
       "      <td>40992.0</td>\n",
       "      <td>3.326786</td>\n",
       "      <td>...</td>\n",
       "      <td>0.202998</td>\n",
       "      <td>0.530254</td>\n",
       "      <td>1.132135</td>\n",
       "      <td>1.459391</td>\n",
       "      <td>0.548618</td>\n",
       "      <td>2.008009</td>\n",
       "      <td>1.268143</td>\n",
       "      <td>1.595399</td>\n",
       "      <td>0.509132</td>\n",
       "      <td>2.104530</td>\n",
       "    </tr>\n",
       "  </tbody>\n",
       "</table>\n",
       "<p>54935 rows × 105 columns</p>\n",
       "</div>"
      ],
      "text/plain": [
       "        WaferID   X   Y  PROBE_TEST_1  PROBE_TEST_2  PROBE_TEST_3  \\\n",
       "0      WAFER_01  15  13      3.323322       41344.0      0.000000   \n",
       "1      WAFER_01  14  14      3.334859       42016.0      0.001056   \n",
       "2      WAFER_01  15  14      3.328521       42368.0     -0.001056   \n",
       "3      WAFER_01  13  15      3.338276       44800.0      0.000000   \n",
       "4      WAFER_01  14  15      3.365625       43776.0      0.001042   \n",
       "...         ...  ..  ..           ...           ...           ...   \n",
       "54930  WAFER_23  17  96      3.314237       45248.0     -0.001017   \n",
       "54931  WAFER_23  18  96      3.298940       40832.0      0.000000   \n",
       "54932  WAFER_23  19  96      3.326990       43584.0      0.000000   \n",
       "54933  WAFER_23  18  97      3.342105       42944.0      0.000000   \n",
       "54934  WAFER_23  19  97      3.342857       41056.0      0.000000   \n",
       "\n",
       "       PROBE_TEST_4  PROBE_TEST_5  PROBE_TEST_6  PROBE_TEST_7  ...  \\\n",
       "0           41344.0      4.200427       41280.0      3.321201  ...   \n",
       "1           42048.0      0.000000       42016.0      3.327465  ...   \n",
       "2           42336.0      4.169165       42304.0      3.326408  ...   \n",
       "3           44800.0      2.039847       44768.0      3.331034  ...   \n",
       "4           43808.0      4.074379       43712.0      3.344792  ...   \n",
       "...             ...           ...           ...           ...  ...   \n",
       "54930       45216.0      4.149237       45184.0      3.311186  ...   \n",
       "54931       40832.0      2.143403       40800.0      3.293640  ...   \n",
       "54932       43584.0      2.064768       43552.0      3.309343  ...   \n",
       "54933       42944.0      2.102086       42912.0      3.333684  ...   \n",
       "54934       41056.0      4.208848       40992.0      3.326786  ...   \n",
       "\n",
       "       PROBE_TEST_99  PROBE_TEST_100  PROBE_TEST_101  PROBE_TEST_102  \\\n",
       "0           0.186313        0.516278        1.052647        1.382612   \n",
       "1           0.188157        0.517358        1.094892        1.424093   \n",
       "2           0.198527        0.528060        1.152194        1.481727   \n",
       "3           0.181875        0.509481        0.983214        1.310820   \n",
       "4           0.186961        0.517940        1.054426        1.385404   \n",
       "...              ...             ...             ...             ...   \n",
       "54930       0.179632        0.507603        1.016751        1.344722   \n",
       "54931       0.188307        0.511342        1.088693        1.411729   \n",
       "54932       0.187592        0.514267        1.046365        1.373040   \n",
       "54933       0.184252        0.512223        1.021737        1.349707   \n",
       "54934       0.202998        0.530254        1.132135        1.459391   \n",
       "\n",
       "       PROBE_TEST_103  PROBE_TEST_104  PROBE_TEST_105  PROBE_TEST_106  \\\n",
       "0            0.548418        1.931031        1.277200        1.607165   \n",
       "1            0.474631        1.898724        1.265201        1.594402   \n",
       "2            0.515912        1.997639        1.274242        1.603775   \n",
       "3            0.510528        1.821347        1.275172        1.602777   \n",
       "4            0.501354        1.886759        1.271400        1.602379   \n",
       "...               ...             ...             ...             ...   \n",
       "54930        0.508134        1.852856        1.242101        1.570072   \n",
       "54931        0.494773        1.906501        1.257806        1.580841   \n",
       "54932        0.532065        1.905105        1.260947        1.587621   \n",
       "54933        0.506340        1.856047        1.253070        1.581040   \n",
       "54934        0.548618        2.008009        1.268143        1.595399   \n",
       "\n",
       "       PROBE_TEST_107  PROBE_TEST_108  \n",
       "0            0.504744        2.111909  \n",
       "1            0.492579        2.086981  \n",
       "2            0.506738        2.110513  \n",
       "3            0.507137        2.109915  \n",
       "4            0.511325        2.113704  \n",
       "...               ...             ...  \n",
       "54930        0.490186        2.060258  \n",
       "54931        0.494574        2.075414  \n",
       "54932        0.502750        2.090371  \n",
       "54933        0.500756        2.081796  \n",
       "54934        0.509132        2.104530  \n",
       "\n",
       "[54935 rows x 105 columns]"
      ]
     },
     "execution_count": 6,
     "metadata": {},
     "output_type": "execute_result"
    }
   ],
   "source": [
    "data2"
   ]
  },
  {
   "cell_type": "code",
   "execution_count": 7,
   "metadata": {},
   "outputs": [
    {
     "data": {
      "text/plain": [
       "(54935, 105)"
      ]
     },
     "execution_count": 7,
     "metadata": {},
     "output_type": "execute_result"
    }
   ],
   "source": [
    "data2.shape"
   ]
  },
  {
   "cell_type": "code",
   "execution_count": 8,
   "metadata": {},
   "outputs": [
    {
     "data": {
      "text/html": [
       "<div>\n",
       "<style scoped>\n",
       "    .dataframe tbody tr th:only-of-type {\n",
       "        vertical-align: middle;\n",
       "    }\n",
       "\n",
       "    .dataframe tbody tr th {\n",
       "        vertical-align: top;\n",
       "    }\n",
       "\n",
       "    .dataframe thead th {\n",
       "        text-align: right;\n",
       "    }\n",
       "</style>\n",
       "<table border=\"1\" class=\"dataframe\">\n",
       "  <thead>\n",
       "    <tr style=\"text-align: right;\">\n",
       "      <th></th>\n",
       "      <th>WaferID</th>\n",
       "      <th>X</th>\n",
       "      <th>Y</th>\n",
       "      <th>PROBE_TEST_1</th>\n",
       "      <th>PROBE_TEST_2</th>\n",
       "      <th>PROBE_TEST_3</th>\n",
       "      <th>PROBE_TEST_4</th>\n",
       "      <th>PROBE_TEST_5</th>\n",
       "      <th>PROBE_TEST_6</th>\n",
       "      <th>PROBE_TEST_7</th>\n",
       "      <th>...</th>\n",
       "      <th>PROBE_TEST_99</th>\n",
       "      <th>PROBE_TEST_100</th>\n",
       "      <th>PROBE_TEST_101</th>\n",
       "      <th>PROBE_TEST_102</th>\n",
       "      <th>PROBE_TEST_103</th>\n",
       "      <th>PROBE_TEST_104</th>\n",
       "      <th>PROBE_TEST_105</th>\n",
       "      <th>PROBE_TEST_106</th>\n",
       "      <th>PROBE_TEST_107</th>\n",
       "      <th>PROBE_TEST_108</th>\n",
       "    </tr>\n",
       "  </thead>\n",
       "  <tbody>\n",
       "    <tr>\n",
       "      <td>54930</td>\n",
       "      <td>WAFER_23</td>\n",
       "      <td>17</td>\n",
       "      <td>96</td>\n",
       "      <td>3.314237</td>\n",
       "      <td>45248.0</td>\n",
       "      <td>-0.001017</td>\n",
       "      <td>45216.0</td>\n",
       "      <td>4.149237</td>\n",
       "      <td>45184.0</td>\n",
       "      <td>3.311186</td>\n",
       "      <td>...</td>\n",
       "      <td>0.179632</td>\n",
       "      <td>0.507603</td>\n",
       "      <td>1.016751</td>\n",
       "      <td>1.344722</td>\n",
       "      <td>0.508134</td>\n",
       "      <td>1.852856</td>\n",
       "      <td>1.242101</td>\n",
       "      <td>1.570072</td>\n",
       "      <td>0.490186</td>\n",
       "      <td>2.060258</td>\n",
       "    </tr>\n",
       "    <tr>\n",
       "      <td>54931</td>\n",
       "      <td>WAFER_23</td>\n",
       "      <td>18</td>\n",
       "      <td>96</td>\n",
       "      <td>3.298940</td>\n",
       "      <td>40832.0</td>\n",
       "      <td>0.000000</td>\n",
       "      <td>40832.0</td>\n",
       "      <td>2.143403</td>\n",
       "      <td>40800.0</td>\n",
       "      <td>3.293640</td>\n",
       "      <td>...</td>\n",
       "      <td>0.188307</td>\n",
       "      <td>0.511342</td>\n",
       "      <td>1.088693</td>\n",
       "      <td>1.411729</td>\n",
       "      <td>0.494773</td>\n",
       "      <td>1.906501</td>\n",
       "      <td>1.257806</td>\n",
       "      <td>1.580841</td>\n",
       "      <td>0.494574</td>\n",
       "      <td>2.075414</td>\n",
       "    </tr>\n",
       "    <tr>\n",
       "      <td>54932</td>\n",
       "      <td>WAFER_23</td>\n",
       "      <td>19</td>\n",
       "      <td>96</td>\n",
       "      <td>3.326990</td>\n",
       "      <td>43584.0</td>\n",
       "      <td>0.000000</td>\n",
       "      <td>43584.0</td>\n",
       "      <td>2.064768</td>\n",
       "      <td>43552.0</td>\n",
       "      <td>3.309343</td>\n",
       "      <td>...</td>\n",
       "      <td>0.187592</td>\n",
       "      <td>0.514267</td>\n",
       "      <td>1.046365</td>\n",
       "      <td>1.373040</td>\n",
       "      <td>0.532065</td>\n",
       "      <td>1.905105</td>\n",
       "      <td>1.260947</td>\n",
       "      <td>1.587621</td>\n",
       "      <td>0.502750</td>\n",
       "      <td>2.090371</td>\n",
       "    </tr>\n",
       "    <tr>\n",
       "      <td>54933</td>\n",
       "      <td>WAFER_23</td>\n",
       "      <td>18</td>\n",
       "      <td>97</td>\n",
       "      <td>3.342105</td>\n",
       "      <td>42944.0</td>\n",
       "      <td>0.000000</td>\n",
       "      <td>42944.0</td>\n",
       "      <td>2.102086</td>\n",
       "      <td>42912.0</td>\n",
       "      <td>3.333684</td>\n",
       "      <td>...</td>\n",
       "      <td>0.184252</td>\n",
       "      <td>0.512223</td>\n",
       "      <td>1.021737</td>\n",
       "      <td>1.349707</td>\n",
       "      <td>0.506340</td>\n",
       "      <td>1.856047</td>\n",
       "      <td>1.253070</td>\n",
       "      <td>1.581040</td>\n",
       "      <td>0.500756</td>\n",
       "      <td>2.081796</td>\n",
       "    </tr>\n",
       "    <tr>\n",
       "      <td>54934</td>\n",
       "      <td>WAFER_23</td>\n",
       "      <td>19</td>\n",
       "      <td>97</td>\n",
       "      <td>3.342857</td>\n",
       "      <td>41056.0</td>\n",
       "      <td>0.000000</td>\n",
       "      <td>41056.0</td>\n",
       "      <td>4.208848</td>\n",
       "      <td>40992.0</td>\n",
       "      <td>3.326786</td>\n",
       "      <td>...</td>\n",
       "      <td>0.202998</td>\n",
       "      <td>0.530254</td>\n",
       "      <td>1.132135</td>\n",
       "      <td>1.459391</td>\n",
       "      <td>0.548618</td>\n",
       "      <td>2.008009</td>\n",
       "      <td>1.268143</td>\n",
       "      <td>1.595399</td>\n",
       "      <td>0.509132</td>\n",
       "      <td>2.104530</td>\n",
       "    </tr>\n",
       "  </tbody>\n",
       "</table>\n",
       "<p>5 rows × 105 columns</p>\n",
       "</div>"
      ],
      "text/plain": [
       "        WaferID   X   Y  PROBE_TEST_1  PROBE_TEST_2  PROBE_TEST_3  \\\n",
       "54930  WAFER_23  17  96      3.314237       45248.0     -0.001017   \n",
       "54931  WAFER_23  18  96      3.298940       40832.0      0.000000   \n",
       "54932  WAFER_23  19  96      3.326990       43584.0      0.000000   \n",
       "54933  WAFER_23  18  97      3.342105       42944.0      0.000000   \n",
       "54934  WAFER_23  19  97      3.342857       41056.0      0.000000   \n",
       "\n",
       "       PROBE_TEST_4  PROBE_TEST_5  PROBE_TEST_6  PROBE_TEST_7  ...  \\\n",
       "54930       45216.0      4.149237       45184.0      3.311186  ...   \n",
       "54931       40832.0      2.143403       40800.0      3.293640  ...   \n",
       "54932       43584.0      2.064768       43552.0      3.309343  ...   \n",
       "54933       42944.0      2.102086       42912.0      3.333684  ...   \n",
       "54934       41056.0      4.208848       40992.0      3.326786  ...   \n",
       "\n",
       "       PROBE_TEST_99  PROBE_TEST_100  PROBE_TEST_101  PROBE_TEST_102  \\\n",
       "54930       0.179632        0.507603        1.016751        1.344722   \n",
       "54931       0.188307        0.511342        1.088693        1.411729   \n",
       "54932       0.187592        0.514267        1.046365        1.373040   \n",
       "54933       0.184252        0.512223        1.021737        1.349707   \n",
       "54934       0.202998        0.530254        1.132135        1.459391   \n",
       "\n",
       "       PROBE_TEST_103  PROBE_TEST_104  PROBE_TEST_105  PROBE_TEST_106  \\\n",
       "54930        0.508134        1.852856        1.242101        1.570072   \n",
       "54931        0.494773        1.906501        1.257806        1.580841   \n",
       "54932        0.532065        1.905105        1.260947        1.587621   \n",
       "54933        0.506340        1.856047        1.253070        1.581040   \n",
       "54934        0.548618        2.008009        1.268143        1.595399   \n",
       "\n",
       "       PROBE_TEST_107  PROBE_TEST_108  \n",
       "54930        0.490186        2.060258  \n",
       "54931        0.494574        2.075414  \n",
       "54932        0.502750        2.090371  \n",
       "54933        0.500756        2.081796  \n",
       "54934        0.509132        2.104530  \n",
       "\n",
       "[5 rows x 105 columns]"
      ]
     },
     "execution_count": 8,
     "metadata": {},
     "output_type": "execute_result"
    }
   ],
   "source": [
    "data2.tail()"
   ]
  },
  {
   "cell_type": "code",
   "execution_count": 9,
   "metadata": {},
   "outputs": [
    {
     "data": {
      "text/plain": [
       "0        3.323322\n",
       "1        3.334859\n",
       "2        3.328521\n",
       "3        3.338276\n",
       "4        3.365625\n",
       "           ...   \n",
       "54930    3.314237\n",
       "54931    3.298940\n",
       "54932    3.326990\n",
       "54933    3.342105\n",
       "54934    3.342857\n",
       "Name: PROBE_TEST_1, Length: 54935, dtype: float64"
      ]
     },
     "execution_count": 9,
     "metadata": {},
     "output_type": "execute_result"
    }
   ],
   "source": [
    "PT_1 = data2['PROBE_TEST_1']\n",
    "PT_1"
   ]
  },
  {
   "cell_type": "code",
   "execution_count": 10,
   "metadata": {},
   "outputs": [
    {
     "name": "stdout",
     "output_type": "stream",
     "text": [
      "3.3349177894111275\n",
      "0.013105251808977848\n",
      "3.10569395\n",
      "3.541902265\n"
     ]
    }
   ],
   "source": [
    "#mean, stdev, min, max\n",
    "print(np.mean(PT_1))\n",
    "print(np.std(PT_1))\n",
    "print(np.min(PT_1))\n",
    "print(np.max(PT_1))"
   ]
  },
  {
   "cell_type": "code",
   "execution_count": 11,
   "metadata": {},
   "outputs": [
    {
     "name": "stdout",
     "output_type": "stream",
     "text": [
      "3.326315789\n",
      "3.343448276\n"
     ]
    }
   ],
   "source": [
    "#the 25th annd 75th percentile\n",
    "print(np.percentile(PT_1, 25))\n",
    "print(np.percentile(PT_1, 75))"
   ]
  },
  {
   "cell_type": "code",
   "execution_count": 12,
   "metadata": {},
   "outputs": [
    {
     "data": {
      "text/plain": [
       "Text(0, 0.5, 'number')"
      ]
     },
     "execution_count": 12,
     "metadata": {},
     "output_type": "execute_result"
    },
    {
     "data": {
      "image/png": "[encoded data removed]",
      "text/plain": [
       "<Figure size 432x288 with 1 Axes>"
      ]
     },
     "metadata": {
      "needs_background": "light"
     },
     "output_type": "display_data"
    }
   ],
   "source": [
    "plt.hist(PT_1)\n",
    "plt.title('PT_1 data')\n",
    "plt.xlabel('data')\n",
    "plt.ylabel('number')"
   ]
  },
  {
   "cell_type": "code",
   "execution_count": 13,
   "metadata": {},
   "outputs": [
    {
     "data": {
      "text/plain": [
       "RangeIndex(start=0, stop=54935, step=1)"
      ]
     },
     "execution_count": 13,
     "metadata": {},
     "output_type": "execute_result"
    }
   ],
   "source": [
    "data2.index #wafer min(2307)/max(2398) measurement points, total 23 wafers (54935 points)"
   ]
  },
  {
   "cell_type": "code",
   "execution_count": 14,
   "metadata": {},
   "outputs": [
    {
     "data": {
      "text/plain": [
       "Index(['WaferID', 'X', 'Y', 'PROBE_TEST_1', 'PROBE_TEST_2', 'PROBE_TEST_3',\n",
       "       'PROBE_TEST_4', 'PROBE_TEST_5', 'PROBE_TEST_6', 'PROBE_TEST_7',\n",
       "       ...\n",
       "       'PROBE_TEST_99', 'PROBE_TEST_100', 'PROBE_TEST_101', 'PROBE_TEST_102',\n",
       "       'PROBE_TEST_103', 'PROBE_TEST_104', 'PROBE_TEST_105', 'PROBE_TEST_106',\n",
       "       'PROBE_TEST_107', 'PROBE_TEST_108'],\n",
       "      dtype='object', length=105)"
      ]
     },
     "execution_count": 14,
     "metadata": {},
     "output_type": "execute_result"
    }
   ],
   "source": [
    "data2.columns #total 105 probe test items"
   ]
  },
  {
   "cell_type": "code",
   "execution_count": 15,
   "metadata": {},
   "outputs": [
    {
     "data": {
      "text/plain": [
       "54935"
      ]
     },
     "execution_count": 15,
     "metadata": {},
     "output_type": "execute_result"
    }
   ],
   "source": [
    "data2['WaferID'].count()"
   ]
  },
  {
   "cell_type": "code",
   "execution_count": 16,
   "metadata": {},
   "outputs": [
    {
     "data": {
      "text/plain": [
       "0        WAFER_01\n",
       "1        WAFER_01\n",
       "2        WAFER_01\n",
       "3        WAFER_01\n",
       "4        WAFER_01\n",
       "           ...   \n",
       "54930    WAFER_23\n",
       "54931    WAFER_23\n",
       "54932    WAFER_23\n",
       "54933    WAFER_23\n",
       "54934    WAFER_23\n",
       "Name: WaferID, Length: 54935, dtype: object"
      ]
     },
     "execution_count": 16,
     "metadata": {},
     "output_type": "execute_result"
    }
   ],
   "source": [
    "data2['WaferID']"
   ]
  },
  {
   "cell_type": "code",
   "execution_count": 17,
   "metadata": {},
   "outputs": [
    {
     "data": {
      "text/plain": [
       "0"
      ]
     },
     "execution_count": 17,
     "metadata": {},
     "output_type": "execute_result"
    }
   ],
   "source": [
    "data2['PROBE_TEST_1'].isnull().sum()\n",
    "data2['PROBE_TEST_2'].isnull().sum()\n",
    "data2['PROBE_TEST_108'].isnull().sum()"
   ]
  },
  {
   "cell_type": "code",
   "execution_count": 18,
   "metadata": {},
   "outputs": [
    {
     "data": {
      "text/plain": [
       "WaferID           54935\n",
       "X                 54935\n",
       "Y                 54935\n",
       "PROBE_TEST_1      54935\n",
       "PROBE_TEST_2      54935\n",
       "                  ...  \n",
       "PROBE_TEST_104    54935\n",
       "PROBE_TEST_105    54935\n",
       "PROBE_TEST_106    54935\n",
       "PROBE_TEST_107    54935\n",
       "PROBE_TEST_108    54935\n",
       "Length: 105, dtype: int64"
      ]
     },
     "execution_count": 18,
     "metadata": {},
     "output_type": "execute_result"
    }
   ],
   "source": [
    "data2=data2.dropna()\n",
    "data2.count()"
   ]
  },
  {
   "cell_type": "code",
   "execution_count": 19,
   "metadata": {},
   "outputs": [
    {
     "data": {
      "text/plain": [
       "WaferID           0\n",
       "X                 0\n",
       "Y                 0\n",
       "PROBE_TEST_1      0\n",
       "PROBE_TEST_2      0\n",
       "                 ..\n",
       "PROBE_TEST_104    0\n",
       "PROBE_TEST_105    0\n",
       "PROBE_TEST_106    0\n",
       "PROBE_TEST_107    0\n",
       "PROBE_TEST_108    0\n",
       "Length: 105, dtype: int64"
      ]
     },
     "execution_count": 19,
     "metadata": {},
     "output_type": "execute_result"
    }
   ],
   "source": [
    "data2.isnull().sum()"
   ]
  },
  {
   "cell_type": "code",
   "execution_count": 20,
   "metadata": {},
   "outputs": [
    {
     "name": "stdout",
     "output_type": "stream",
     "text": [
      "<class 'pandas.core.frame.DataFrame'>\n",
      "Int64Index: 54935 entries, 0 to 54934\n",
      "Columns: 105 entries, WaferID to PROBE_TEST_108\n",
      "dtypes: float64(102), int64(2), object(1)\n",
      "memory usage: 44.4+ MB\n"
     ]
    }
   ],
   "source": [
    "data2.info()"
   ]
  },
  {
   "cell_type": "code",
   "execution_count": null,
   "metadata": {},
   "outputs": [],
   "source": []
  }
 ],
 "metadata": {
  "kernelspec": {
   "display_name": "Python 3",
   "language": "python",
   "name": "python3"
  },
  "language_info": {
   "codemirror_mode": {
    "name": "ipython",
    "version": 3
   },
   "file_extension": ".py",
   "mimetype": "text/x-python",
   "name": "python",
   "nbconvert_exporter": "python",
   "pygments_lexer": "ipython3",
   "version": "3.7.4"
  }
 },
 "nbformat": 4,
 "nbformat_minor": 2
}
