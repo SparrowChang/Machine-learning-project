{
 "cells": [
  {
   "cell_type": "code",
   "execution_count": 2,
   "metadata": {},
   "outputs": [],
   "source": [
    "import numpy as np"
   ]
  },
  {
   "cell_type": "code",
   "execution_count": 3,
   "metadata": {},
   "outputs": [],
   "source": [
    "import pandas as pd"
   ]
  },
  {
   "cell_type": "code",
   "execution_count": 4,
   "metadata": {},
   "outputs": [],
   "source": [
    "import matplotlib.pyplot as plt"
   ]
  },
  {
   "cell_type": "code",
   "execution_count": 5,
   "metadata": {},
   "outputs": [],
   "source": [
    "data1 = pd.read_csv('etests.csv')"
   ]
  },
  {
   "cell_type": "code",
   "execution_count": 6,
   "metadata": {},
   "outputs": [
    {
     "data": {
      "text/html": [
       "<div>\n",
       "<style scoped>\n",
       "    .dataframe tbody tr th:only-of-type {\n",
       "        vertical-align: middle;\n",
       "    }\n",
       "\n",
       "    .dataframe tbody tr th {\n",
       "        vertical-align: top;\n",
       "    }\n",
       "\n",
       "    .dataframe thead th {\n",
       "        text-align: right;\n",
       "    }\n",
       "</style>\n",
       "<table border=\"1\" class=\"dataframe\">\n",
       "  <thead>\n",
       "    <tr style=\"text-align: right;\">\n",
       "      <th></th>\n",
       "      <th>WaferID</th>\n",
       "      <th>X</th>\n",
       "      <th>Y</th>\n",
       "      <th>ETEST_1</th>\n",
       "      <th>ETEST_2</th>\n",
       "      <th>ETEST_3</th>\n",
       "      <th>ETEST_4</th>\n",
       "      <th>ETEST_5</th>\n",
       "      <th>ETEST_6</th>\n",
       "      <th>ETEST_7</th>\n",
       "      <th>...</th>\n",
       "      <th>ETEST_469</th>\n",
       "      <th>ETEST_470</th>\n",
       "      <th>ETEST_471</th>\n",
       "      <th>ETEST_472</th>\n",
       "      <th>ETEST_473</th>\n",
       "      <th>ETEST_474</th>\n",
       "      <th>ETEST_475</th>\n",
       "      <th>ETEST_476</th>\n",
       "      <th>ETEST_477</th>\n",
       "      <th>ETEST_478</th>\n",
       "    </tr>\n",
       "  </thead>\n",
       "  <tbody>\n",
       "    <tr>\n",
       "      <td>0</td>\n",
       "      <td>WAFER_01</td>\n",
       "      <td>-3</td>\n",
       "      <td>0</td>\n",
       "      <td>0.00992</td>\n",
       "      <td>-0.029500</td>\n",
       "      <td>0.00683</td>\n",
       "      <td>-0.00335</td>\n",
       "      <td>0.038200</td>\n",
       "      <td>0.000145</td>\n",
       "      <td>0.63674</td>\n",
       "      <td>...</td>\n",
       "      <td>-27.231001</td>\n",
       "      <td>69.545998</td>\n",
       "      <td>47.116997</td>\n",
       "      <td>-74.108994</td>\n",
       "      <td>24700.00000</td>\n",
       "      <td>7.6091</td>\n",
       "      <td>7.6091</td>\n",
       "      <td>4.5382</td>\n",
       "      <td>629.849976</td>\n",
       "      <td>0.24747</td>\n",
       "    </tr>\n",
       "    <tr>\n",
       "      <td>1</td>\n",
       "      <td>WAFER_01</td>\n",
       "      <td>-2</td>\n",
       "      <td>-2</td>\n",
       "      <td>0.15208</td>\n",
       "      <td>-0.120670</td>\n",
       "      <td>0.02370</td>\n",
       "      <td>0.01320</td>\n",
       "      <td>0.010488</td>\n",
       "      <td>0.000138</td>\n",
       "      <td>0.63820</td>\n",
       "      <td>...</td>\n",
       "      <td>-27.114000</td>\n",
       "      <td>70.697998</td>\n",
       "      <td>30.903999</td>\n",
       "      <td>-69.070999</td>\n",
       "      <td>23431.00000</td>\n",
       "      <td>7.6176</td>\n",
       "      <td>7.6176</td>\n",
       "      <td>4.5331</td>\n",
       "      <td>603.340027</td>\n",
       "      <td>0.23715</td>\n",
       "    </tr>\n",
       "    <tr>\n",
       "      <td>2</td>\n",
       "      <td>WAFER_01</td>\n",
       "      <td>-1</td>\n",
       "      <td>0</td>\n",
       "      <td>0.01290</td>\n",
       "      <td>-0.012000</td>\n",
       "      <td>0.00499</td>\n",
       "      <td>0.00483</td>\n",
       "      <td>0.023157</td>\n",
       "      <td>0.000141</td>\n",
       "      <td>0.64032</td>\n",
       "      <td>...</td>\n",
       "      <td>-27.407000</td>\n",
       "      <td>70.230003</td>\n",
       "      <td>44.227001</td>\n",
       "      <td>-67.825996</td>\n",
       "      <td>27125.00000</td>\n",
       "      <td>7.6066</td>\n",
       "      <td>7.6066</td>\n",
       "      <td>4.5397</td>\n",
       "      <td>583.929993</td>\n",
       "      <td>0.22708</td>\n",
       "    </tr>\n",
       "    <tr>\n",
       "      <td>3</td>\n",
       "      <td>WAFER_01</td>\n",
       "      <td>1</td>\n",
       "      <td>3</td>\n",
       "      <td>-0.00135</td>\n",
       "      <td>-0.002280</td>\n",
       "      <td>0.00280</td>\n",
       "      <td>-0.00507</td>\n",
       "      <td>0.028900</td>\n",
       "      <td>0.000124</td>\n",
       "      <td>0.63985</td>\n",
       "      <td>...</td>\n",
       "      <td>-27.642000</td>\n",
       "      <td>70.950005</td>\n",
       "      <td>51.438000</td>\n",
       "      <td>-116.060005</td>\n",
       "      <td>24729.99805</td>\n",
       "      <td>7.5905</td>\n",
       "      <td>7.5905</td>\n",
       "      <td>4.5493</td>\n",
       "      <td>610.950012</td>\n",
       "      <td>0.24409</td>\n",
       "    </tr>\n",
       "    <tr>\n",
       "      <td>4</td>\n",
       "      <td>WAFER_01</td>\n",
       "      <td>2</td>\n",
       "      <td>0</td>\n",
       "      <td>-0.00446</td>\n",
       "      <td>0.001460</td>\n",
       "      <td>0.00453</td>\n",
       "      <td>-0.00727</td>\n",
       "      <td>0.046500</td>\n",
       "      <td>0.000126</td>\n",
       "      <td>0.63786</td>\n",
       "      <td>...</td>\n",
       "      <td>-28.080999</td>\n",
       "      <td>69.084007</td>\n",
       "      <td>23.813999</td>\n",
       "      <td>-54.118999</td>\n",
       "      <td>20965.00000</td>\n",
       "      <td>7.5989</td>\n",
       "      <td>7.5989</td>\n",
       "      <td>4.5442</td>\n",
       "      <td>594.340027</td>\n",
       "      <td>0.22255</td>\n",
       "    </tr>\n",
       "    <tr>\n",
       "      <td>...</td>\n",
       "      <td>...</td>\n",
       "      <td>...</td>\n",
       "      <td>...</td>\n",
       "      <td>...</td>\n",
       "      <td>...</td>\n",
       "      <td>...</td>\n",
       "      <td>...</td>\n",
       "      <td>...</td>\n",
       "      <td>...</td>\n",
       "      <td>...</td>\n",
       "      <td>...</td>\n",
       "      <td>...</td>\n",
       "      <td>...</td>\n",
       "      <td>...</td>\n",
       "      <td>...</td>\n",
       "      <td>...</td>\n",
       "      <td>...</td>\n",
       "      <td>...</td>\n",
       "      <td>...</td>\n",
       "      <td>...</td>\n",
       "      <td>...</td>\n",
       "    </tr>\n",
       "    <tr>\n",
       "      <td>110</td>\n",
       "      <td>WAFER_23</td>\n",
       "      <td>-3</td>\n",
       "      <td>2</td>\n",
       "      <td>-0.00175</td>\n",
       "      <td>-0.018700</td>\n",
       "      <td>0.00412</td>\n",
       "      <td>0.03560</td>\n",
       "      <td>0.016600</td>\n",
       "      <td>0.000131</td>\n",
       "      <td>0.63910</td>\n",
       "      <td>...</td>\n",
       "      <td>-26.646000</td>\n",
       "      <td>72.246002</td>\n",
       "      <td>0.519450</td>\n",
       "      <td>8.641400</td>\n",
       "      <td>32383.00000</td>\n",
       "      <td>7.5746</td>\n",
       "      <td>7.5746</td>\n",
       "      <td>4.5588</td>\n",
       "      <td>573.099976</td>\n",
       "      <td>0.22335</td>\n",
       "    </tr>\n",
       "    <tr>\n",
       "      <td>111</td>\n",
       "      <td>WAFER_23</td>\n",
       "      <td>-1</td>\n",
       "      <td>-1</td>\n",
       "      <td>0.00315</td>\n",
       "      <td>-0.026163</td>\n",
       "      <td>0.00460</td>\n",
       "      <td>0.02010</td>\n",
       "      <td>0.002150</td>\n",
       "      <td>0.000125</td>\n",
       "      <td>0.64135</td>\n",
       "      <td>...</td>\n",
       "      <td>-27.554001</td>\n",
       "      <td>69.344002</td>\n",
       "      <td>28.467999</td>\n",
       "      <td>-64.696999</td>\n",
       "      <td>27495.00000</td>\n",
       "      <td>7.6001</td>\n",
       "      <td>7.6001</td>\n",
       "      <td>4.5435</td>\n",
       "      <td>592.979981</td>\n",
       "      <td>0.22072</td>\n",
       "    </tr>\n",
       "    <tr>\n",
       "      <td>112</td>\n",
       "      <td>WAFER_23</td>\n",
       "      <td>1</td>\n",
       "      <td>-2</td>\n",
       "      <td>0.02450</td>\n",
       "      <td>-0.074100</td>\n",
       "      <td>0.00931</td>\n",
       "      <td>0.01190</td>\n",
       "      <td>0.011900</td>\n",
       "      <td>0.000129</td>\n",
       "      <td>0.63854</td>\n",
       "      <td>...</td>\n",
       "      <td>-27.875999</td>\n",
       "      <td>69.813995</td>\n",
       "      <td>7.309299</td>\n",
       "      <td>-16.579000</td>\n",
       "      <td>30889.00000</td>\n",
       "      <td>7.5858</td>\n",
       "      <td>7.5858</td>\n",
       "      <td>4.5521</td>\n",
       "      <td>591.119995</td>\n",
       "      <td>0.22641</td>\n",
       "    </tr>\n",
       "    <tr>\n",
       "      <td>113</td>\n",
       "      <td>WAFER_23</td>\n",
       "      <td>1</td>\n",
       "      <td>3</td>\n",
       "      <td>0.01419</td>\n",
       "      <td>-0.024142</td>\n",
       "      <td>0.00434</td>\n",
       "      <td>0.01450</td>\n",
       "      <td>0.005610</td>\n",
       "      <td>0.000135</td>\n",
       "      <td>0.63903</td>\n",
       "      <td>...</td>\n",
       "      <td>-27.759001</td>\n",
       "      <td>71.177994</td>\n",
       "      <td>9.314599</td>\n",
       "      <td>-21.155001</td>\n",
       "      <td>25524.00000</td>\n",
       "      <td>7.5788</td>\n",
       "      <td>7.5787</td>\n",
       "      <td>4.5563</td>\n",
       "      <td>581.820007</td>\n",
       "      <td>0.23025</td>\n",
       "    </tr>\n",
       "    <tr>\n",
       "      <td>114</td>\n",
       "      <td>WAFER_23</td>\n",
       "      <td>3</td>\n",
       "      <td>1</td>\n",
       "      <td>0.04350</td>\n",
       "      <td>-0.083500</td>\n",
       "      <td>0.01290</td>\n",
       "      <td>0.01620</td>\n",
       "      <td>0.007670</td>\n",
       "      <td>0.000127</td>\n",
       "      <td>0.63796</td>\n",
       "      <td>...</td>\n",
       "      <td>-27.847000</td>\n",
       "      <td>71.712997</td>\n",
       "      <td>1.575400</td>\n",
       "      <td>-3.299400</td>\n",
       "      <td>28088.00000</td>\n",
       "      <td>7.5702</td>\n",
       "      <td>7.5703</td>\n",
       "      <td>4.5614</td>\n",
       "      <td>578.390015</td>\n",
       "      <td>0.22872</td>\n",
       "    </tr>\n",
       "  </tbody>\n",
       "</table>\n",
       "<p>115 rows × 431 columns</p>\n",
       "</div>"
      ],
      "text/plain": [
       "      WaferID  X  Y  ETEST_1   ETEST_2  ETEST_3  ETEST_4   ETEST_5   ETEST_6  \\\n",
       "0    WAFER_01 -3  0  0.00992 -0.029500  0.00683 -0.00335  0.038200  0.000145   \n",
       "1    WAFER_01 -2 -2  0.15208 -0.120670  0.02370  0.01320  0.010488  0.000138   \n",
       "2    WAFER_01 -1  0  0.01290 -0.012000  0.00499  0.00483  0.023157  0.000141   \n",
       "3    WAFER_01  1  3 -0.00135 -0.002280  0.00280 -0.00507  0.028900  0.000124   \n",
       "4    WAFER_01  2  0 -0.00446  0.001460  0.00453 -0.00727  0.046500  0.000126   \n",
       "..        ... .. ..      ...       ...      ...      ...       ...       ...   \n",
       "110  WAFER_23 -3  2 -0.00175 -0.018700  0.00412  0.03560  0.016600  0.000131   \n",
       "111  WAFER_23 -1 -1  0.00315 -0.026163  0.00460  0.02010  0.002150  0.000125   \n",
       "112  WAFER_23  1 -2  0.02450 -0.074100  0.00931  0.01190  0.011900  0.000129   \n",
       "113  WAFER_23  1  3  0.01419 -0.024142  0.00434  0.01450  0.005610  0.000135   \n",
       "114  WAFER_23  3  1  0.04350 -0.083500  0.01290  0.01620  0.007670  0.000127   \n",
       "\n",
       "     ETEST_7  ...  ETEST_469  ETEST_470  ETEST_471   ETEST_472    ETEST_473  \\\n",
       "0    0.63674  ... -27.231001  69.545998  47.116997  -74.108994  24700.00000   \n",
       "1    0.63820  ... -27.114000  70.697998  30.903999  -69.070999  23431.00000   \n",
       "2    0.64032  ... -27.407000  70.230003  44.227001  -67.825996  27125.00000   \n",
       "3    0.63985  ... -27.642000  70.950005  51.438000 -116.060005  24729.99805   \n",
       "4    0.63786  ... -28.080999  69.084007  23.813999  -54.118999  20965.00000   \n",
       "..       ...  ...        ...        ...        ...         ...          ...   \n",
       "110  0.63910  ... -26.646000  72.246002   0.519450    8.641400  32383.00000   \n",
       "111  0.64135  ... -27.554001  69.344002  28.467999  -64.696999  27495.00000   \n",
       "112  0.63854  ... -27.875999  69.813995   7.309299  -16.579000  30889.00000   \n",
       "113  0.63903  ... -27.759001  71.177994   9.314599  -21.155001  25524.00000   \n",
       "114  0.63796  ... -27.847000  71.712997   1.575400   -3.299400  28088.00000   \n",
       "\n",
       "     ETEST_474  ETEST_475  ETEST_476   ETEST_477  ETEST_478  \n",
       "0       7.6091     7.6091     4.5382  629.849976    0.24747  \n",
       "1       7.6176     7.6176     4.5331  603.340027    0.23715  \n",
       "2       7.6066     7.6066     4.5397  583.929993    0.22708  \n",
       "3       7.5905     7.5905     4.5493  610.950012    0.24409  \n",
       "4       7.5989     7.5989     4.5442  594.340027    0.22255  \n",
       "..         ...        ...        ...         ...        ...  \n",
       "110     7.5746     7.5746     4.5588  573.099976    0.22335  \n",
       "111     7.6001     7.6001     4.5435  592.979981    0.22072  \n",
       "112     7.5858     7.5858     4.5521  591.119995    0.22641  \n",
       "113     7.5788     7.5787     4.5563  581.820007    0.23025  \n",
       "114     7.5702     7.5703     4.5614  578.390015    0.22872  \n",
       "\n",
       "[115 rows x 431 columns]"
      ]
     },
     "execution_count": 6,
     "metadata": {},
     "output_type": "execute_result"
    }
   ],
   "source": [
    "data1"
   ]
  },
  {
   "cell_type": "code",
   "execution_count": 7,
   "metadata": {},
   "outputs": [
    {
     "data": {
      "text/plain": [
       "(115, 431)"
      ]
     },
     "execution_count": 7,
     "metadata": {},
     "output_type": "execute_result"
    }
   ],
   "source": [
    "data1.shape"
   ]
  },
  {
   "cell_type": "code",
   "execution_count": 8,
   "metadata": {},
   "outputs": [
    {
     "data": {
      "text/html": [
       "<div>\n",
       "<style scoped>\n",
       "    .dataframe tbody tr th:only-of-type {\n",
       "        vertical-align: middle;\n",
       "    }\n",
       "\n",
       "    .dataframe tbody tr th {\n",
       "        vertical-align: top;\n",
       "    }\n",
       "\n",
       "    .dataframe thead th {\n",
       "        text-align: right;\n",
       "    }\n",
       "</style>\n",
       "<table border=\"1\" class=\"dataframe\">\n",
       "  <thead>\n",
       "    <tr style=\"text-align: right;\">\n",
       "      <th></th>\n",
       "      <th>WaferID</th>\n",
       "      <th>X</th>\n",
       "      <th>Y</th>\n",
       "      <th>ETEST_1</th>\n",
       "      <th>ETEST_2</th>\n",
       "      <th>ETEST_3</th>\n",
       "      <th>ETEST_4</th>\n",
       "      <th>ETEST_5</th>\n",
       "      <th>ETEST_6</th>\n",
       "      <th>ETEST_7</th>\n",
       "      <th>...</th>\n",
       "      <th>ETEST_469</th>\n",
       "      <th>ETEST_470</th>\n",
       "      <th>ETEST_471</th>\n",
       "      <th>ETEST_472</th>\n",
       "      <th>ETEST_473</th>\n",
       "      <th>ETEST_474</th>\n",
       "      <th>ETEST_475</th>\n",
       "      <th>ETEST_476</th>\n",
       "      <th>ETEST_477</th>\n",
       "      <th>ETEST_478</th>\n",
       "    </tr>\n",
       "  </thead>\n",
       "  <tbody>\n",
       "    <tr>\n",
       "      <td>110</td>\n",
       "      <td>WAFER_23</td>\n",
       "      <td>-3</td>\n",
       "      <td>2</td>\n",
       "      <td>-0.00175</td>\n",
       "      <td>-0.018700</td>\n",
       "      <td>0.00412</td>\n",
       "      <td>0.0356</td>\n",
       "      <td>0.01660</td>\n",
       "      <td>0.000131</td>\n",
       "      <td>0.63910</td>\n",
       "      <td>...</td>\n",
       "      <td>-26.646000</td>\n",
       "      <td>72.246002</td>\n",
       "      <td>0.519450</td>\n",
       "      <td>8.641400</td>\n",
       "      <td>32383.0</td>\n",
       "      <td>7.5746</td>\n",
       "      <td>7.5746</td>\n",
       "      <td>4.5588</td>\n",
       "      <td>573.099976</td>\n",
       "      <td>0.22335</td>\n",
       "    </tr>\n",
       "    <tr>\n",
       "      <td>111</td>\n",
       "      <td>WAFER_23</td>\n",
       "      <td>-1</td>\n",
       "      <td>-1</td>\n",
       "      <td>0.00315</td>\n",
       "      <td>-0.026163</td>\n",
       "      <td>0.00460</td>\n",
       "      <td>0.0201</td>\n",
       "      <td>0.00215</td>\n",
       "      <td>0.000125</td>\n",
       "      <td>0.64135</td>\n",
       "      <td>...</td>\n",
       "      <td>-27.554001</td>\n",
       "      <td>69.344002</td>\n",
       "      <td>28.467999</td>\n",
       "      <td>-64.696999</td>\n",
       "      <td>27495.0</td>\n",
       "      <td>7.6001</td>\n",
       "      <td>7.6001</td>\n",
       "      <td>4.5435</td>\n",
       "      <td>592.979981</td>\n",
       "      <td>0.22072</td>\n",
       "    </tr>\n",
       "    <tr>\n",
       "      <td>112</td>\n",
       "      <td>WAFER_23</td>\n",
       "      <td>1</td>\n",
       "      <td>-2</td>\n",
       "      <td>0.02450</td>\n",
       "      <td>-0.074100</td>\n",
       "      <td>0.00931</td>\n",
       "      <td>0.0119</td>\n",
       "      <td>0.01190</td>\n",
       "      <td>0.000129</td>\n",
       "      <td>0.63854</td>\n",
       "      <td>...</td>\n",
       "      <td>-27.875999</td>\n",
       "      <td>69.813995</td>\n",
       "      <td>7.309299</td>\n",
       "      <td>-16.579000</td>\n",
       "      <td>30889.0</td>\n",
       "      <td>7.5858</td>\n",
       "      <td>7.5858</td>\n",
       "      <td>4.5521</td>\n",
       "      <td>591.119995</td>\n",
       "      <td>0.22641</td>\n",
       "    </tr>\n",
       "    <tr>\n",
       "      <td>113</td>\n",
       "      <td>WAFER_23</td>\n",
       "      <td>1</td>\n",
       "      <td>3</td>\n",
       "      <td>0.01419</td>\n",
       "      <td>-0.024142</td>\n",
       "      <td>0.00434</td>\n",
       "      <td>0.0145</td>\n",
       "      <td>0.00561</td>\n",
       "      <td>0.000135</td>\n",
       "      <td>0.63903</td>\n",
       "      <td>...</td>\n",
       "      <td>-27.759001</td>\n",
       "      <td>71.177994</td>\n",
       "      <td>9.314599</td>\n",
       "      <td>-21.155001</td>\n",
       "      <td>25524.0</td>\n",
       "      <td>7.5788</td>\n",
       "      <td>7.5787</td>\n",
       "      <td>4.5563</td>\n",
       "      <td>581.820007</td>\n",
       "      <td>0.23025</td>\n",
       "    </tr>\n",
       "    <tr>\n",
       "      <td>114</td>\n",
       "      <td>WAFER_23</td>\n",
       "      <td>3</td>\n",
       "      <td>1</td>\n",
       "      <td>0.04350</td>\n",
       "      <td>-0.083500</td>\n",
       "      <td>0.01290</td>\n",
       "      <td>0.0162</td>\n",
       "      <td>0.00767</td>\n",
       "      <td>0.000127</td>\n",
       "      <td>0.63796</td>\n",
       "      <td>...</td>\n",
       "      <td>-27.847000</td>\n",
       "      <td>71.712997</td>\n",
       "      <td>1.575400</td>\n",
       "      <td>-3.299400</td>\n",
       "      <td>28088.0</td>\n",
       "      <td>7.5702</td>\n",
       "      <td>7.5703</td>\n",
       "      <td>4.5614</td>\n",
       "      <td>578.390015</td>\n",
       "      <td>0.22872</td>\n",
       "    </tr>\n",
       "  </tbody>\n",
       "</table>\n",
       "<p>5 rows × 431 columns</p>\n",
       "</div>"
      ],
      "text/plain": [
       "      WaferID  X  Y  ETEST_1   ETEST_2  ETEST_3  ETEST_4  ETEST_5   ETEST_6  \\\n",
       "110  WAFER_23 -3  2 -0.00175 -0.018700  0.00412   0.0356  0.01660  0.000131   \n",
       "111  WAFER_23 -1 -1  0.00315 -0.026163  0.00460   0.0201  0.00215  0.000125   \n",
       "112  WAFER_23  1 -2  0.02450 -0.074100  0.00931   0.0119  0.01190  0.000129   \n",
       "113  WAFER_23  1  3  0.01419 -0.024142  0.00434   0.0145  0.00561  0.000135   \n",
       "114  WAFER_23  3  1  0.04350 -0.083500  0.01290   0.0162  0.00767  0.000127   \n",
       "\n",
       "     ETEST_7  ...  ETEST_469  ETEST_470  ETEST_471  ETEST_472  ETEST_473  \\\n",
       "110  0.63910  ... -26.646000  72.246002   0.519450   8.641400    32383.0   \n",
       "111  0.64135  ... -27.554001  69.344002  28.467999 -64.696999    27495.0   \n",
       "112  0.63854  ... -27.875999  69.813995   7.309299 -16.579000    30889.0   \n",
       "113  0.63903  ... -27.759001  71.177994   9.314599 -21.155001    25524.0   \n",
       "114  0.63796  ... -27.847000  71.712997   1.575400  -3.299400    28088.0   \n",
       "\n",
       "     ETEST_474  ETEST_475  ETEST_476   ETEST_477  ETEST_478  \n",
       "110     7.5746     7.5746     4.5588  573.099976    0.22335  \n",
       "111     7.6001     7.6001     4.5435  592.979981    0.22072  \n",
       "112     7.5858     7.5858     4.5521  591.119995    0.22641  \n",
       "113     7.5788     7.5787     4.5563  581.820007    0.23025  \n",
       "114     7.5702     7.5703     4.5614  578.390015    0.22872  \n",
       "\n",
       "[5 rows x 431 columns]"
      ]
     },
     "execution_count": 8,
     "metadata": {},
     "output_type": "execute_result"
    }
   ],
   "source": [
    "data1.tail()"
   ]
  },
  {
   "cell_type": "code",
   "execution_count": 9,
   "metadata": {},
   "outputs": [
    {
     "data": {
      "text/plain": [
       "0      0.00992\n",
       "1      0.15208\n",
       "2      0.01290\n",
       "3     -0.00135\n",
       "4     -0.00446\n",
       "        ...   \n",
       "110   -0.00175\n",
       "111    0.00315\n",
       "112    0.02450\n",
       "113    0.01419\n",
       "114    0.04350\n",
       "Name: ETEST_1, Length: 115, dtype: float64"
      ]
     },
     "execution_count": 9,
     "metadata": {},
     "output_type": "execute_result"
    }
   ],
   "source": [
    "ET_1 = data1['ETEST_1']\n",
    "ET_1"
   ]
  },
  {
   "cell_type": "code",
   "execution_count": 10,
   "metadata": {},
   "outputs": [
    {
     "name": "stdout",
     "output_type": "stream",
     "text": [
      "0.29495047521739115\n",
      "3.195424393254943\n",
      "-1.135499954\n",
      "34.38600159\n"
     ]
    }
   ],
   "source": [
    "#mean, stdev, min, max\n",
    "print(np.mean(ET_1))\n",
    "print(np.std(ET_1))\n",
    "print(np.min(ET_1))\n",
    "print(np.max(ET_1))"
   ]
  },
  {
   "cell_type": "code",
   "execution_count": 11,
   "metadata": {},
   "outputs": [
    {
     "name": "stdout",
     "output_type": "stream",
     "text": [
      "0.001535\n",
      "0.017494\n"
     ]
    }
   ],
   "source": [
    "#the 25th annd 75th percentile\n",
    "print(np.percentile(ET_1, 25))\n",
    "print(np.percentile(ET_1, 75))"
   ]
  },
  {
   "cell_type": "code",
   "execution_count": 12,
   "metadata": {},
   "outputs": [
    {
     "data": {
      "text/plain": [
       "Text(0, 0.5, 'number')"
      ]
     },
     "execution_count": 12,
     "metadata": {},
     "output_type": "execute_result"
    },
    {
     "data": {
      "image/png": "[encoded data removed]",
      "text/plain": [
       "<Figure size 432x288 with 1 Axes>"
      ]
     },
     "metadata": {
      "needs_background": "light"
     },
     "output_type": "display_data"
    }
   ],
   "source": [
    "plt.hist(ET_1)\n",
    "plt.title('ET_1 data')\n",
    "plt.xlabel('data')\n",
    "plt.ylabel('number')"
   ]
  },
  {
   "cell_type": "code",
   "execution_count": 13,
   "metadata": {},
   "outputs": [
    {
     "data": {
      "text/plain": [
       "RangeIndex(start=0, stop=115, step=1)"
      ]
     },
     "execution_count": 13,
     "metadata": {},
     "output_type": "execute_result"
    }
   ],
   "source": [
    "data1.index #wafer 5 measurement points, total 23 wafers (115 points)"
   ]
  },
  {
   "cell_type": "code",
   "execution_count": 14,
   "metadata": {},
   "outputs": [
    {
     "data": {
      "text/plain": [
       "Index(['WaferID', 'X', 'Y', 'ETEST_1', 'ETEST_2', 'ETEST_3', 'ETEST_4',\n",
       "       'ETEST_5', 'ETEST_6', 'ETEST_7',\n",
       "       ...\n",
       "       'ETEST_469', 'ETEST_470', 'ETEST_471', 'ETEST_472', 'ETEST_473',\n",
       "       'ETEST_474', 'ETEST_475', 'ETEST_476', 'ETEST_477', 'ETEST_478'],\n",
       "      dtype='object', length=431)"
      ]
     },
     "execution_count": 14,
     "metadata": {},
     "output_type": "execute_result"
    }
   ],
   "source": [
    "data1.columns #total 431 wafer test items"
   ]
  },
  {
   "cell_type": "code",
   "execution_count": 15,
   "metadata": {},
   "outputs": [
    {
     "data": {
      "text/plain": [
       "115"
      ]
     },
     "execution_count": 15,
     "metadata": {},
     "output_type": "execute_result"
    }
   ],
   "source": [
    "data1['WaferID'].count()"
   ]
  },
  {
   "cell_type": "code",
   "execution_count": 16,
   "metadata": {},
   "outputs": [
    {
     "data": {
      "text/plain": [
       "0      WAFER_01\n",
       "1      WAFER_01\n",
       "2      WAFER_01\n",
       "3      WAFER_01\n",
       "4      WAFER_01\n",
       "         ...   \n",
       "110    WAFER_23\n",
       "111    WAFER_23\n",
       "112    WAFER_23\n",
       "113    WAFER_23\n",
       "114    WAFER_23\n",
       "Name: WaferID, Length: 115, dtype: object"
      ]
     },
     "execution_count": 16,
     "metadata": {},
     "output_type": "execute_result"
    }
   ],
   "source": [
    "data1['WaferID']"
   ]
  },
  {
   "cell_type": "code",
   "execution_count": 17,
   "metadata": {},
   "outputs": [
    {
     "data": {
      "text/plain": [
       "0"
      ]
     },
     "execution_count": 17,
     "metadata": {},
     "output_type": "execute_result"
    }
   ],
   "source": [
    "data1['ETEST_1'].isnull().sum()\n",
    "data1['ETEST_2'].isnull().sum()\n",
    "data1['ETEST_478'].isnull().sum()"
   ]
  },
  {
   "cell_type": "code",
   "execution_count": 18,
   "metadata": {},
   "outputs": [
    {
     "data": {
      "text/plain": [
       "WaferID      115\n",
       "X            115\n",
       "Y            115\n",
       "ETEST_1      115\n",
       "ETEST_2      115\n",
       "            ... \n",
       "ETEST_474    115\n",
       "ETEST_475    115\n",
       "ETEST_476    115\n",
       "ETEST_477    115\n",
       "ETEST_478    115\n",
       "Length: 431, dtype: int64"
      ]
     },
     "execution_count": 18,
     "metadata": {},
     "output_type": "execute_result"
    }
   ],
   "source": [
    "data1=data1.dropna()\n",
    "data1.count()"
   ]
  },
  {
   "cell_type": "code",
   "execution_count": 19,
   "metadata": {},
   "outputs": [
    {
     "data": {
      "text/plain": [
       "WaferID      0\n",
       "X            0\n",
       "Y            0\n",
       "ETEST_1      0\n",
       "ETEST_2      0\n",
       "            ..\n",
       "ETEST_474    0\n",
       "ETEST_475    0\n",
       "ETEST_476    0\n",
       "ETEST_477    0\n",
       "ETEST_478    0\n",
       "Length: 431, dtype: int64"
      ]
     },
     "execution_count": 19,
     "metadata": {},
     "output_type": "execute_result"
    }
   ],
   "source": [
    "data1.isnull().sum()"
   ]
  },
  {
   "cell_type": "code",
   "execution_count": 20,
   "metadata": {},
   "outputs": [
    {
     "name": "stdout",
     "output_type": "stream",
     "text": [
      "<class 'pandas.core.frame.DataFrame'>\n",
      "Int64Index: 115 entries, 0 to 114\n",
      "Columns: 431 entries, WaferID to ETEST_478\n",
      "dtypes: float64(423), int64(7), object(1)\n",
      "memory usage: 388.1+ KB\n"
     ]
    }
   ],
   "source": [
    "data1.info()"
   ]
  },
  {
   "cell_type": "code",
   "execution_count": null,
   "metadata": {},
   "outputs": [],
   "source": []
  }
 ],
 "metadata": {
  "kernelspec": {
   "display_name": "Python 3",
   "language": "python",
   "name": "python3"
  },
  "language_info": {
   "codemirror_mode": {
    "name": "ipython",
    "version": 3
   },
   "file_extension": ".py",
   "mimetype": "text/x-python",
   "name": "python",
   "nbconvert_exporter": "python",
   "pygments_lexer": "ipython3",
   "version": "3.7.4"
  }
 },
 "nbformat": 4,
 "nbformat_minor": 2
}
